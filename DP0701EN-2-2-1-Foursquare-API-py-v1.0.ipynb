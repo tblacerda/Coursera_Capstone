{
 "cells": [
  {
   "cell_type": "markdown",
   "metadata": {
    "button": false,
    "deletable": true,
    "new_sheet": false,
    "run_control": {
     "read_only": false
    }
   },
   "source": [
    "<a href=\"https://cognitiveclass.ai\"><img src = \"https://ibm.box.com/shared/static/9gegpsmnsoo25ikkbl4qzlvlyjbgxs5x.png\" width = 400> </a>\n",
    "\n",
    "<h1 align=center><font size = 5>Learning FourSquare API with Python</font></h1>"
   ]
  },
  {
   "cell_type": "markdown",
   "metadata": {
    "button": false,
    "deletable": true,
    "new_sheet": false,
    "run_control": {
     "read_only": false
    }
   },
   "source": [
    "   "
   ]
  },
  {
   "cell_type": "markdown",
   "metadata": {
    "button": false,
    "deletable": true,
    "new_sheet": false,
    "run_control": {
     "read_only": false
    }
   },
   "source": [
    "## Introduction\n",
    "\n",
    "In this lab, you will learn in details how to make calls to the Foursquare API for different purposes. You will learn how to construct a URL to send a request to the API to search for a specific type of venues, to explore a particular venue, to explore a Foursquare user, to explore a geographical location, and to get trending venues around a location. Also, you will learn how to use the visualization library, Folium, to visualize the results."
   ]
  },
  {
   "cell_type": "markdown",
   "metadata": {
    "button": false,
    "deletable": true,
    "new_sheet": false,
    "run_control": {
     "read_only": false
    }
   },
   "source": [
    "## Table of Contents\n",
    "\n",
    "1. <a href=\"#item1\">Foursquare API Search Function</a>\n",
    "2. <a href=\"#item2\">Explore a Given Venue</a>  \n",
    "3. <a href=\"#item3\">Explore a User</a>  \n",
    "4. <a href=\"#item4\">Foursquare API Explore Function</a>  \n",
    "5. <a href=\"#item5\">Get Trending Venues</a>  "
   ]
  },
  {
   "cell_type": "markdown",
   "metadata": {
    "button": false,
    "deletable": true,
    "new_sheet": false,
    "run_control": {
     "read_only": false
    }
   },
   "source": [
    "### Import necessary Libraries"
   ]
  },
  {
   "cell_type": "code",
   "execution_count": 1,
   "metadata": {
    "button": false,
    "deletable": true,
    "new_sheet": false,
    "run_control": {
     "read_only": false
    }
   },
   "outputs": [
    {
     "name": "stdout",
     "output_type": "stream",
     "text": [
      "Folium installed\n",
      "Libraries imported.\n"
     ]
    }
   ],
   "source": [
    "\n",
    "import requests # library to handle requests\n",
    "import pandas as pd # library for data analsysis\n",
    "import numpy as np # library to handle data in a vectorized manner\n",
    "import random # library for random number generation\n",
    "\n",
    "#!conda install -c conda-forge geopy --yes \n",
    "from geopy.geocoders import Nominatim # module to convert an address into latitude and longitude values\n",
    "\n",
    "# libraries for displaying images\n",
    "from IPython.display import Image \n",
    "from IPython.core.display import HTML \n",
    "    \n",
    "# tranforming json file into a pandas dataframe library\n",
    "from pandas.io.json import json_normalize\n",
    "\n",
    "#!conda install -c conda-forge folium=0.5.0 --yes\n",
    "import folium # plotting library\n",
    "\n",
    "print('Folium installed')\n",
    "print('Libraries imported.')"
   ]
  },
  {
   "cell_type": "markdown",
   "metadata": {
    "button": false,
    "deletable": true,
    "new_sheet": false,
    "run_control": {
     "read_only": false
    }
   },
   "source": [
    "### Define Foursquare Credentials and Version"
   ]
  },
  {
   "cell_type": "markdown",
   "metadata": {
    "button": false,
    "deletable": true,
    "new_sheet": false,
    "run_control": {
     "read_only": false
    }
   },
   "source": [
    "##### Make sure that you have created a Foursquare developer account and have your credentials handy"
   ]
  },
  {
   "cell_type": "code",
   "execution_count": 2,
   "metadata": {
    "button": false,
    "collapsed": false,
    "deletable": true,
    "new_sheet": false,
    "run_control": {
     "read_only": false
    }
   },
   "outputs": [
    {
     "name": "stdout",
     "output_type": "stream",
     "text": [
      "Your credentails:\n",
      "CLIENT_ID: 1GU25OCTP5HKPFYDDYM1W2T3Q4VK0ID0XB3EJYUQ0BDZPL1D\n",
      "CLIENT_SECRET:NSJW03UNRYXOHZYYS4HQSUWFOMLUW0D2F24MCXFAV1H0NBB2\n"
     ]
    }
   ],
   "source": [
    "\n",
    "CLIENT_ID = '1GU25OCTP5HKPFYDDYM1W2T3Q4VK0ID0XB3EJYUQ0BDZPL1D' # your Foursquare ID\n",
    "CLIENT_SECRET = 'NSJW03UNRYXOHZYYS4HQSUWFOMLUW0D2F24MCXFAV1H0NBB2' # your Foursquare Secret\n",
    "VERSION = '20180604'\n",
    "LIMIT = 30\n",
    "print('Your credentails:')\n",
    "print('CLIENT_ID: ' + CLIENT_ID)\n",
    "print('CLIENT_SECRET:' + CLIENT_SECRET)"
   ]
  },
  {
   "cell_type": "markdown",
   "metadata": {
    "button": false,
    "deletable": true,
    "new_sheet": false,
    "run_control": {
     "read_only": false
    }
   },
   "source": [
    "  "
   ]
  },
  {
   "cell_type": "markdown",
   "metadata": {
    "button": false,
    "deletable": true,
    "new_sheet": false,
    "run_control": {
     "read_only": false
    }
   },
   "source": [
    "#### Let's again assume that you are staying at the Conrad hotel. So let's start by converting the Contrad Hotel's address to its latitude and longitude coordinates."
   ]
  },
  {
   "cell_type": "markdown",
   "metadata": {},
   "source": [
    "In order to define an instance of the geocoder, we need to define a user_agent. We will name our agent <em>foursquare_agent</em>, as shown below."
   ]
  },
  {
   "cell_type": "code",
   "execution_count": 54,
   "metadata": {
    "button": false,
    "collapsed": false,
    "deletable": true,
    "new_sheet": false,
    "run_control": {
     "read_only": false
    }
   },
   "outputs": [
    {
     "name": "stdout",
     "output_type": "stream",
     "text": [
      "-8.1089912 -34.9171811\n"
     ]
    }
   ],
   "source": [
    "#address = '102 North End Ave, New York, NY'\n",
    "address = 'JEAN EMILE FAVRE IPSEP. Recife,PE'\n",
    "geolocator = Nominatim(user_agent=\"foursquare_agent\")\n",
    "location = geolocator.geocode(address)\n",
    "latitude = location.latitude\n",
    "longitude = location.longitude\n",
    "print(latitude, longitude)"
   ]
  },
  {
   "cell_type": "markdown",
   "metadata": {
    "button": false,
    "deletable": true,
    "new_sheet": false,
    "run_control": {
     "read_only": false
    }
   },
   "source": [
    "   "
   ]
  },
  {
   "cell_type": "markdown",
   "metadata": {
    "button": false,
    "deletable": true,
    "new_sheet": false,
    "run_control": {
     "read_only": false
    }
   },
   "source": [
    "<a id=\"item1\"></a>"
   ]
  },
  {
   "cell_type": "markdown",
   "metadata": {
    "button": false,
    "deletable": true,
    "new_sheet": false,
    "run_control": {
     "read_only": false
    }
   },
   "source": [
    "## 1. Search for a specific venue category\n",
    "> `https://api.foursquare.com/v2/venues/`**search**`?client_id=`**CLIENT_ID**`&client_secret=`**CLIENT_SECRET**`&ll=`**LATITUDE**`,`**LONGITUDE**`&v=`**VERSION**`&query=`**QUERY**`&radius=`**RADIUS**`&limit=`**LIMIT**"
   ]
  },
  {
   "cell_type": "markdown",
   "metadata": {
    "button": false,
    "deletable": true,
    "new_sheet": false,
    "run_control": {
     "read_only": false
    }
   },
   "source": [
    "#### Now, let's assume that it is lunch time, and you are craving Italian food. So, let's define a query to search for Italian food that is within 500 metres from the Conrad Hotel. "
   ]
  },
  {
   "cell_type": "code",
   "execution_count": 55,
   "metadata": {
    "button": false,
    "collapsed": false,
    "deletable": true,
    "new_sheet": false,
    "run_control": {
     "read_only": false
    },
    "scrolled": true
   },
   "outputs": [
    {
     "name": "stdout",
     "output_type": "stream",
     "text": [
      "Café .... OK!\n"
     ]
    }
   ],
   "source": [
    "search_query = 'Café'\n",
    "radius = 1000\n",
    "print(search_query + ' .... OK!')"
   ]
  },
  {
   "cell_type": "markdown",
   "metadata": {
    "button": false,
    "deletable": true,
    "new_sheet": false,
    "run_control": {
     "read_only": false
    }
   },
   "source": [
    "#### Define the corresponding URL"
   ]
  },
  {
   "cell_type": "code",
   "execution_count": 56,
   "metadata": {
    "button": false,
    "collapsed": false,
    "deletable": true,
    "new_sheet": false,
    "run_control": {
     "read_only": false
    }
   },
   "outputs": [
    {
     "data": {
      "text/plain": [
       "'https://api.foursquare.com/v2/venues/search?client_id=1GU25OCTP5HKPFYDDYM1W2T3Q4VK0ID0XB3EJYUQ0BDZPL1D&client_secret=NSJW03UNRYXOHZYYS4HQSUWFOMLUW0D2F24MCXFAV1H0NBB2&ll=-8.1089912,-34.9171811&v=20180604&query=Café&radius=1000&limit=30'"
      ]
     },
     "execution_count": 56,
     "metadata": {},
     "output_type": "execute_result"
    }
   ],
   "source": [
    "url = 'https://api.foursquare.com/v2/venues/search?client_id={}&client_secret={}&ll={},{}&v={}&query={}&radius={}&limit={}'.format(CLIENT_ID, CLIENT_SECRET, latitude, longitude, VERSION, search_query, radius, LIMIT)\n",
    "url"
   ]
  },
  {
   "cell_type": "markdown",
   "metadata": {
    "button": false,
    "deletable": true,
    "new_sheet": false,
    "run_control": {
     "read_only": false
    }
   },
   "source": [
    "#### Send the GET Request and examine the results"
   ]
  },
  {
   "cell_type": "code",
   "execution_count": 57,
   "metadata": {
    "button": false,
    "collapsed": false,
    "deletable": true,
    "new_sheet": false,
    "run_control": {
     "read_only": false
    },
    "scrolled": true
   },
   "outputs": [
    {
     "data": {
      "text/plain": [
       "{'meta': {'code': 200, 'requestId': '5d28c243e706550025059b3d'},\n",
       " 'response': {'venues': [{'id': '5750bd8ccd10585cb97d451a',\n",
       "    'name': 'Café da Manhã',\n",
       "    'location': {'address': 'Rua Araçatuba',\n",
       "     'crossStreet': 'Rua Itaquice',\n",
       "     'lat': -8.104943,\n",
       "     'lng': -34.9189,\n",
       "     'labeledLatLngs': [{'label': 'display',\n",
       "       'lat': -8.104943,\n",
       "       'lng': -34.9189}],\n",
       "     'distance': 488,\n",
       "     'cc': 'BR',\n",
       "     'city': 'Recife',\n",
       "     'state': 'PE',\n",
       "     'country': 'Brasil',\n",
       "     'formattedAddress': ['Rua Araçatuba (Rua Itaquice)',\n",
       "      'Recife, PE',\n",
       "      'Brasil']},\n",
       "    'categories': [{'id': '4bf58dd8d48988d143941735',\n",
       "      'name': 'Breakfast Spot',\n",
       "      'pluralName': 'Breakfast Spots',\n",
       "      'shortName': 'Breakfast',\n",
       "      'icon': {'prefix': 'https://ss3.4sqi.net/img/categories_v2/food/breakfast_',\n",
       "       'suffix': '.png'},\n",
       "      'primary': True}],\n",
       "    'referralId': 'v-1562952259',\n",
       "    'hasPerk': False},\n",
       "   {'id': '5151781ce4b078463feb27bb',\n",
       "    'name': 'Café da Manhã Hotel Marante',\n",
       "    'location': {'lat': -8.112664556477947,\n",
       "     'lng': -34.91916699733227,\n",
       "     'labeledLatLngs': [{'label': 'display',\n",
       "       'lat': -8.112664556477947,\n",
       "       'lng': -34.91916699733227}],\n",
       "     'distance': 463,\n",
       "     'cc': 'BR',\n",
       "     'city': 'Recife',\n",
       "     'state': 'PE',\n",
       "     'country': 'Brasil',\n",
       "     'formattedAddress': ['Recife, PE', 'Brasil']},\n",
       "    'categories': [{'id': '4bf58dd8d48988d143941735',\n",
       "      'name': 'Breakfast Spot',\n",
       "      'pluralName': 'Breakfast Spots',\n",
       "      'shortName': 'Breakfast',\n",
       "      'icon': {'prefix': 'https://ss3.4sqi.net/img/categories_v2/food/breakfast_',\n",
       "       'suffix': '.png'},\n",
       "      'primary': True}],\n",
       "    'referralId': 'v-1562952259',\n",
       "    'hasPerk': False},\n",
       "   {'id': '522b44ed498ea8137783364a',\n",
       "    'name': 'Café Manhatan',\n",
       "    'location': {'address': 'Rua FRANCISCO DA CUNHA 881',\n",
       "     'lat': -8.113959854715663,\n",
       "     'lng': -34.91652815889744,\n",
       "     'labeledLatLngs': [{'label': 'display',\n",
       "       'lat': -8.113959854715663,\n",
       "       'lng': -34.91652815889744}],\n",
       "     'distance': 557,\n",
       "     'cc': 'BR',\n",
       "     'city': 'Recife',\n",
       "     'state': 'PE',\n",
       "     'country': 'Brasil',\n",
       "     'formattedAddress': ['Rua FRANCISCO DA CUNHA 881',\n",
       "      'Recife, PE',\n",
       "      'Brasil']},\n",
       "    'categories': [{'id': '4bf58dd8d48988d11a941735',\n",
       "      'name': 'Other Nightlife',\n",
       "      'pluralName': 'Other Nightlife',\n",
       "      'shortName': 'Nightlife',\n",
       "      'icon': {'prefix': 'https://ss3.4sqi.net/img/categories_v2/nightlife/default_',\n",
       "       'suffix': '.png'},\n",
       "      'primary': True}],\n",
       "    'referralId': 'v-1562952259',\n",
       "    'hasPerk': False},\n",
       "   {'id': '54062954498ea342599d88ec',\n",
       "    'name': 'Delta Cafe FBV',\n",
       "    'location': {'lat': -8.106784776983789,\n",
       "     'lng': -34.91489634632055,\n",
       "     'labeledLatLngs': [{'label': 'display',\n",
       "       'lat': -8.106784776983789,\n",
       "       'lng': -34.91489634632055}],\n",
       "     'distance': 351,\n",
       "     'cc': 'BR',\n",
       "     'city': 'Recife',\n",
       "     'state': 'PE',\n",
       "     'country': 'Brasil',\n",
       "     'formattedAddress': ['Recife, PE', 'Brasil']},\n",
       "    'categories': [{'id': '4bf58dd8d48988d16d941735',\n",
       "      'name': 'Café',\n",
       "      'pluralName': 'Cafés',\n",
       "      'shortName': 'Café',\n",
       "      'icon': {'prefix': 'https://ss3.4sqi.net/img/categories_v2/food/cafe_',\n",
       "       'suffix': '.png'},\n",
       "      'primary': True}],\n",
       "    'referralId': 'v-1562952259',\n",
       "    'hasPerk': False},\n",
       "   {'id': '5824652ddf0e3e14e2922d46',\n",
       "    'name': 'Bar&Café - Conveniência',\n",
       "    'location': {'address': 'Avenida Marechal Mascarenhas de Morais, 2349 - Imbiribeira',\n",
       "     'lat': -8.103994,\n",
       "     'lng': -34.910625,\n",
       "     'labeledLatLngs': [{'label': 'display',\n",
       "       'lat': -8.103994,\n",
       "       'lng': -34.910625}],\n",
       "     'distance': 911,\n",
       "     'cc': 'BR',\n",
       "     'city': 'Recife',\n",
       "     'state': 'PE',\n",
       "     'country': 'Brasil',\n",
       "     'formattedAddress': ['Avenida Marechal Mascarenhas de Morais, 2349 - Imbiribeira',\n",
       "      'Recife, PE',\n",
       "      'Brasil']},\n",
       "    'categories': [{'id': '4d954b0ea243a5684a65b473',\n",
       "      'name': 'Convenience Store',\n",
       "      'pluralName': 'Convenience Stores',\n",
       "      'shortName': 'Convenience Store',\n",
       "      'icon': {'prefix': 'https://ss3.4sqi.net/img/categories_v2/shops/conveniencestore_',\n",
       "       'suffix': '.png'},\n",
       "      'primary': True}],\n",
       "    'referralId': 'v-1562952259',\n",
       "    'hasPerk': False},\n",
       "   {'id': '5436b2b2498e976c5d536523',\n",
       "    'name': 'Delta Café - FPS/IMIP',\n",
       "    'location': {'address': 'Avenida Jean Emile Favre',\n",
       "     'lat': -8.106580932979988,\n",
       "     'lng': -34.91485326173503,\n",
       "     'labeledLatLngs': [{'label': 'display',\n",
       "       'lat': -8.106580932979988,\n",
       "       'lng': -34.91485326173503}],\n",
       "     'distance': 371,\n",
       "     'cc': 'BR',\n",
       "     'city': 'Recife',\n",
       "     'state': 'PE',\n",
       "     'country': 'Brasil',\n",
       "     'formattedAddress': ['Avenida Jean Emile Favre', 'Recife, PE', 'Brasil']},\n",
       "    'categories': [{'id': '4bf58dd8d48988d16d941735',\n",
       "      'name': 'Café',\n",
       "      'pluralName': 'Cafés',\n",
       "      'shortName': 'Café',\n",
       "      'icon': {'prefix': 'https://ss3.4sqi.net/img/categories_v2/food/cafe_',\n",
       "       'suffix': '.png'},\n",
       "      'primary': True}],\n",
       "    'referralId': 'v-1562952259',\n",
       "    'hasPerk': False},\n",
       "   {'id': '51c029dc498e07ac7c24c6ca',\n",
       "    'name': 'Tomando meu café da manhã',\n",
       "    'location': {'address': 'Rua Rio Amazonas',\n",
       "     'lat': -8.112647551865225,\n",
       "     'lng': -34.919156226729925,\n",
       "     'labeledLatLngs': [{'label': 'display',\n",
       "       'lat': -8.112647551865225,\n",
       "       'lng': -34.919156226729925}],\n",
       "     'distance': 461,\n",
       "     'cc': 'BR',\n",
       "     'city': 'Recife',\n",
       "     'state': 'PE',\n",
       "     'country': 'Brasil',\n",
       "     'formattedAddress': ['Rua Rio Amazonas', 'Recife, PE', 'Brasil']},\n",
       "    'categories': [{'id': '4bf58dd8d48988d130941735',\n",
       "      'name': 'Building',\n",
       "      'pluralName': 'Buildings',\n",
       "      'shortName': 'Building',\n",
       "      'icon': {'prefix': 'https://ss3.4sqi.net/img/categories_v2/building/default_',\n",
       "       'suffix': '.png'},\n",
       "      'primary': True}],\n",
       "    'referralId': 'v-1562952259',\n",
       "    'hasPerk': False},\n",
       "   {'id': '56756ad3498e829946741218',\n",
       "    'name': 'cafeteria sao bras',\n",
       "    'location': {'lat': -8.108020015571038,\n",
       "     'lng': -34.921019520595706,\n",
       "     'labeledLatLngs': [{'label': 'display',\n",
       "       'lat': -8.108020015571038,\n",
       "       'lng': -34.921019520595706}],\n",
       "     'distance': 436,\n",
       "     'cc': 'BR',\n",
       "     'city': 'Recife',\n",
       "     'state': 'PE',\n",
       "     'country': 'Brasil',\n",
       "     'formattedAddress': ['Recife, PE', 'Brasil']},\n",
       "    'categories': [{'id': '4bf58dd8d48988d1e0931735',\n",
       "      'name': 'Coffee Shop',\n",
       "      'pluralName': 'Coffee Shops',\n",
       "      'shortName': 'Coffee Shop',\n",
       "      'icon': {'prefix': 'https://ss3.4sqi.net/img/categories_v2/food/coffeeshop_',\n",
       "       'suffix': '.png'},\n",
       "      'primary': True}],\n",
       "    'referralId': 'v-1562952259',\n",
       "    'hasPerk': False},\n",
       "   {'id': '4f25a5f8e4b0eec7ff6a6417',\n",
       "    'name': \"Café's\",\n",
       "    'location': {'address': 'Av. Mascarenhas de Moraes 3402',\n",
       "     'crossStreet': \"Sam's Club\",\n",
       "     'lat': -8.114531931061341,\n",
       "     'lng': -34.91381272516872,\n",
       "     'labeledLatLngs': [{'label': 'display',\n",
       "       'lat': -8.114531931061341,\n",
       "       'lng': -34.91381272516872}],\n",
       "     'distance': 719,\n",
       "     'cc': 'BR',\n",
       "     'city': 'Recife',\n",
       "     'state': 'PE',\n",
       "     'country': 'Brasil',\n",
       "     'formattedAddress': [\"Av. Mascarenhas de Moraes 3402 (Sam's Club)\",\n",
       "      'Recife, PE',\n",
       "      'Brasil']},\n",
       "    'categories': [{'id': '4bf58dd8d48988d16d941735',\n",
       "      'name': 'Café',\n",
       "      'pluralName': 'Cafés',\n",
       "      'shortName': 'Café',\n",
       "      'icon': {'prefix': 'https://ss3.4sqi.net/img/categories_v2/food/cafe_',\n",
       "       'suffix': '.png'},\n",
       "      'primary': True}],\n",
       "    'referralId': 'v-1562952259',\n",
       "    'hasPerk': False},\n",
       "   {'id': '5394cf60498e7b5d5b991334',\n",
       "    'name': 'Cafeteira São Braz',\n",
       "    'location': {'lat': -8.10809495611095,\n",
       "     'lng': -34.92108414277018,\n",
       "     'labeledLatLngs': [{'label': 'display',\n",
       "       'lat': -8.10809495611095,\n",
       "       'lng': -34.92108414277018}],\n",
       "     'distance': 441,\n",
       "     'cc': 'BR',\n",
       "     'city': 'Recife',\n",
       "     'state': 'PE',\n",
       "     'country': 'Brasil',\n",
       "     'formattedAddress': ['Recife, PE', 'Brasil']},\n",
       "    'categories': [{'id': '4bf58dd8d48988d16d941735',\n",
       "      'name': 'Café',\n",
       "      'pluralName': 'Cafés',\n",
       "      'shortName': 'Café',\n",
       "      'icon': {'prefix': 'https://ss3.4sqi.net/img/categories_v2/food/cafe_',\n",
       "       'suffix': '.png'},\n",
       "      'primary': True}],\n",
       "    'referralId': 'v-1562952259',\n",
       "    'hasPerk': False},\n",
       "   {'id': '5690f7bf498e0efd2f006fcd',\n",
       "    'name': 'Cafeteria Assaí Atacadista - Imbiribeira',\n",
       "    'location': {'address': 'Av. Marechal Mascarenhas de Moraes, 2.180',\n",
       "     'lat': -8.101389822705647,\n",
       "     'lng': -34.91076841616441,\n",
       "     'labeledLatLngs': [{'label': 'display',\n",
       "       'lat': -8.101389822705647,\n",
       "       'lng': -34.91076841616441}],\n",
       "     'distance': 1102,\n",
       "     'cc': 'BR',\n",
       "     'state': 'Pernambuco',\n",
       "     'country': 'Brasil',\n",
       "     'formattedAddress': ['Av. Marechal Mascarenhas de Moraes, 2.180',\n",
       "      'Imbiribeira - Recife, PE',\n",
       "      'Brasil']},\n",
       "    'categories': [{'id': '4bf58dd8d48988d16d941735',\n",
       "      'name': 'Café',\n",
       "      'pluralName': 'Cafés',\n",
       "      'shortName': 'Café',\n",
       "      'icon': {'prefix': 'https://ss3.4sqi.net/img/categories_v2/food/cafe_',\n",
       "       'suffix': '.png'},\n",
       "      'primary': True}],\n",
       "    'referralId': 'v-1562952259',\n",
       "    'hasPerk': False},\n",
       "   {'id': '5690f6dc498ea42fe7c3699f',\n",
       "    'name': 'Cafeteria Assaí Atacadista - Imbiribeira',\n",
       "    'location': {'address': 'Av. Marechal Mascarenhas de Moraes, 2.180',\n",
       "     'lat': -8.101386,\n",
       "     'lng': -34.910793,\n",
       "     'labeledLatLngs': [{'label': 'display',\n",
       "       'lat': -8.101386,\n",
       "       'lng': -34.910793}],\n",
       "     'distance': 1101,\n",
       "     'cc': 'BR',\n",
       "     'state': 'Pernambuco',\n",
       "     'country': 'Brasil',\n",
       "     'formattedAddress': ['Av. Marechal Mascarenhas de Moraes, 2.180',\n",
       "      'Imbiribeira - Recife, PE',\n",
       "      'Brasil']},\n",
       "    'categories': [{'id': '4bf58dd8d48988d16d941735',\n",
       "      'name': 'Café',\n",
       "      'pluralName': 'Cafés',\n",
       "      'shortName': 'Café',\n",
       "      'icon': {'prefix': 'https://ss3.4sqi.net/img/categories_v2/food/cafe_',\n",
       "       'suffix': '.png'},\n",
       "      'primary': True}],\n",
       "    'referralId': 'v-1562952259',\n",
       "    'hasPerk': False},\n",
       "   {'id': '4e0cadb61838fa426aca8137',\n",
       "    'name': 'Delta Cafés',\n",
       "    'location': {'address': 'Av. Mascarenhas de Moraes, 2555A',\n",
       "     'lat': -8.109964970969225,\n",
       "     'lng': -34.91214427450969,\n",
       "     'labeledLatLngs': [{'label': 'display',\n",
       "       'lat': -8.109964970969225,\n",
       "       'lng': -34.91214427450969}],\n",
       "     'distance': 565,\n",
       "     'cc': 'BR',\n",
       "     'city': 'Recife',\n",
       "     'state': 'PE',\n",
       "     'country': 'Brasil',\n",
       "     'formattedAddress': ['Av. Mascarenhas de Moraes, 2555A',\n",
       "      'Recife, PE',\n",
       "      'Brasil']},\n",
       "    'categories': [{'id': '4bf58dd8d48988d16d941735',\n",
       "      'name': 'Café',\n",
       "      'pluralName': 'Cafés',\n",
       "      'shortName': 'Café',\n",
       "      'icon': {'prefix': 'https://ss3.4sqi.net/img/categories_v2/food/cafe_',\n",
       "       'suffix': '.png'},\n",
       "      'primary': True}],\n",
       "    'referralId': 'v-1562952259',\n",
       "    'hasPerk': False}]}}"
      ]
     },
     "execution_count": 57,
     "metadata": {},
     "output_type": "execute_result"
    }
   ],
   "source": [
    "results = requests.get(url).json()\n",
    "results"
   ]
  },
  {
   "cell_type": "markdown",
   "metadata": {
    "button": false,
    "deletable": true,
    "new_sheet": false,
    "run_control": {
     "read_only": false
    }
   },
   "source": [
    "#### Get relevant part of JSON and transform it into a *pandas* dataframe"
   ]
  },
  {
   "cell_type": "code",
   "execution_count": 58,
   "metadata": {
    "button": false,
    "collapsed": false,
    "deletable": true,
    "new_sheet": false,
    "run_control": {
     "read_only": false
    }
   },
   "outputs": [
    {
     "data": {
      "text/html": [
       "<div>\n",
       "<style scoped>\n",
       "    .dataframe tbody tr th:only-of-type {\n",
       "        vertical-align: middle;\n",
       "    }\n",
       "\n",
       "    .dataframe tbody tr th {\n",
       "        vertical-align: top;\n",
       "    }\n",
       "\n",
       "    .dataframe thead th {\n",
       "        text-align: right;\n",
       "    }\n",
       "</style>\n",
       "<table border=\"1\" class=\"dataframe\">\n",
       "  <thead>\n",
       "    <tr style=\"text-align: right;\">\n",
       "      <th></th>\n",
       "      <th>categories</th>\n",
       "      <th>hasPerk</th>\n",
       "      <th>id</th>\n",
       "      <th>location.address</th>\n",
       "      <th>location.cc</th>\n",
       "      <th>location.city</th>\n",
       "      <th>location.country</th>\n",
       "      <th>location.crossStreet</th>\n",
       "      <th>location.distance</th>\n",
       "      <th>location.formattedAddress</th>\n",
       "      <th>location.labeledLatLngs</th>\n",
       "      <th>location.lat</th>\n",
       "      <th>location.lng</th>\n",
       "      <th>location.state</th>\n",
       "      <th>name</th>\n",
       "      <th>referralId</th>\n",
       "    </tr>\n",
       "  </thead>\n",
       "  <tbody>\n",
       "    <tr>\n",
       "      <th>0</th>\n",
       "      <td>[{'id': '4bf58dd8d48988d143941735', 'name': 'Breakfast Spot', 'pluralName': 'Breakfast Spots', 'shortName': 'Breakfast', 'icon': {'prefix': 'https://ss3.4sqi.net/img/categories_v2/food/breakfast_', 'suffix': '.png'}, 'primary': True}]</td>\n",
       "      <td>False</td>\n",
       "      <td>5750bd8ccd10585cb97d451a</td>\n",
       "      <td>Rua Araçatuba</td>\n",
       "      <td>BR</td>\n",
       "      <td>Recife</td>\n",
       "      <td>Brasil</td>\n",
       "      <td>Rua Itaquice</td>\n",
       "      <td>488</td>\n",
       "      <td>[Rua Araçatuba (Rua Itaquice), Recife, PE, Brasil]</td>\n",
       "      <td>[{'label': 'display', 'lat': -8.104943, 'lng': -34.9189}]</td>\n",
       "      <td>-8.104943</td>\n",
       "      <td>-34.918900</td>\n",
       "      <td>PE</td>\n",
       "      <td>Café da Manhã</td>\n",
       "      <td>v-1562952259</td>\n",
       "    </tr>\n",
       "    <tr>\n",
       "      <th>1</th>\n",
       "      <td>[{'id': '4bf58dd8d48988d143941735', 'name': 'Breakfast Spot', 'pluralName': 'Breakfast Spots', 'shortName': 'Breakfast', 'icon': {'prefix': 'https://ss3.4sqi.net/img/categories_v2/food/breakfast_', 'suffix': '.png'}, 'primary': True}]</td>\n",
       "      <td>False</td>\n",
       "      <td>5151781ce4b078463feb27bb</td>\n",
       "      <td>NaN</td>\n",
       "      <td>BR</td>\n",
       "      <td>Recife</td>\n",
       "      <td>Brasil</td>\n",
       "      <td>NaN</td>\n",
       "      <td>463</td>\n",
       "      <td>[Recife, PE, Brasil]</td>\n",
       "      <td>[{'label': 'display', 'lat': -8.112664556477947, 'lng': -34.91916699733227}]</td>\n",
       "      <td>-8.112665</td>\n",
       "      <td>-34.919167</td>\n",
       "      <td>PE</td>\n",
       "      <td>Café da Manhã Hotel Marante</td>\n",
       "      <td>v-1562952259</td>\n",
       "    </tr>\n",
       "    <tr>\n",
       "      <th>2</th>\n",
       "      <td>[{'id': '4bf58dd8d48988d11a941735', 'name': 'Other Nightlife', 'pluralName': 'Other Nightlife', 'shortName': 'Nightlife', 'icon': {'prefix': 'https://ss3.4sqi.net/img/categories_v2/nightlife/default_', 'suffix': '.png'}, 'primary': True}]</td>\n",
       "      <td>False</td>\n",
       "      <td>522b44ed498ea8137783364a</td>\n",
       "      <td>Rua FRANCISCO DA CUNHA 881</td>\n",
       "      <td>BR</td>\n",
       "      <td>Recife</td>\n",
       "      <td>Brasil</td>\n",
       "      <td>NaN</td>\n",
       "      <td>557</td>\n",
       "      <td>[Rua FRANCISCO DA CUNHA 881, Recife, PE, Brasil]</td>\n",
       "      <td>[{'label': 'display', 'lat': -8.113959854715663, 'lng': -34.91652815889744}]</td>\n",
       "      <td>-8.113960</td>\n",
       "      <td>-34.916528</td>\n",
       "      <td>PE</td>\n",
       "      <td>Café Manhatan</td>\n",
       "      <td>v-1562952259</td>\n",
       "    </tr>\n",
       "    <tr>\n",
       "      <th>3</th>\n",
       "      <td>[{'id': '4bf58dd8d48988d16d941735', 'name': 'Café', 'pluralName': 'Cafés', 'shortName': 'Café', 'icon': {'prefix': 'https://ss3.4sqi.net/img/categories_v2/food/cafe_', 'suffix': '.png'}, 'primary': True}]</td>\n",
       "      <td>False</td>\n",
       "      <td>54062954498ea342599d88ec</td>\n",
       "      <td>NaN</td>\n",
       "      <td>BR</td>\n",
       "      <td>Recife</td>\n",
       "      <td>Brasil</td>\n",
       "      <td>NaN</td>\n",
       "      <td>351</td>\n",
       "      <td>[Recife, PE, Brasil]</td>\n",
       "      <td>[{'label': 'display', 'lat': -8.106784776983789, 'lng': -34.91489634632055}]</td>\n",
       "      <td>-8.106785</td>\n",
       "      <td>-34.914896</td>\n",
       "      <td>PE</td>\n",
       "      <td>Delta Cafe FBV</td>\n",
       "      <td>v-1562952259</td>\n",
       "    </tr>\n",
       "    <tr>\n",
       "      <th>4</th>\n",
       "      <td>[{'id': '4d954b0ea243a5684a65b473', 'name': 'Convenience Store', 'pluralName': 'Convenience Stores', 'shortName': 'Convenience Store', 'icon': {'prefix': 'https://ss3.4sqi.net/img/categories_v2/shops/conveniencestore_', 'suffix': '.png'}, 'primary': True}]</td>\n",
       "      <td>False</td>\n",
       "      <td>5824652ddf0e3e14e2922d46</td>\n",
       "      <td>Avenida Marechal Mascarenhas de Morais, 2349 - Imbiribeira</td>\n",
       "      <td>BR</td>\n",
       "      <td>Recife</td>\n",
       "      <td>Brasil</td>\n",
       "      <td>NaN</td>\n",
       "      <td>911</td>\n",
       "      <td>[Avenida Marechal Mascarenhas de Morais, 2349 - Imbiribeira, Recife, PE, Brasil]</td>\n",
       "      <td>[{'label': 'display', 'lat': -8.103994, 'lng': -34.910625}]</td>\n",
       "      <td>-8.103994</td>\n",
       "      <td>-34.910625</td>\n",
       "      <td>PE</td>\n",
       "      <td>Bar&amp;Café - Conveniência</td>\n",
       "      <td>v-1562952259</td>\n",
       "    </tr>\n",
       "  </tbody>\n",
       "</table>\n",
       "</div>"
      ],
      "text/plain": [
       "                                                                                                                                                                                                                                                         categories  \\\n",
       "0  [{'id': '4bf58dd8d48988d143941735', 'name': 'Breakfast Spot', 'pluralName': 'Breakfast Spots', 'shortName': 'Breakfast', 'icon': {'prefix': 'https://ss3.4sqi.net/img/categories_v2/food/breakfast_', 'suffix': '.png'}, 'primary': True}]                         \n",
       "1  [{'id': '4bf58dd8d48988d143941735', 'name': 'Breakfast Spot', 'pluralName': 'Breakfast Spots', 'shortName': 'Breakfast', 'icon': {'prefix': 'https://ss3.4sqi.net/img/categories_v2/food/breakfast_', 'suffix': '.png'}, 'primary': True}]                         \n",
       "2  [{'id': '4bf58dd8d48988d11a941735', 'name': 'Other Nightlife', 'pluralName': 'Other Nightlife', 'shortName': 'Nightlife', 'icon': {'prefix': 'https://ss3.4sqi.net/img/categories_v2/nightlife/default_', 'suffix': '.png'}, 'primary': True}]                     \n",
       "3  [{'id': '4bf58dd8d48988d16d941735', 'name': 'Café', 'pluralName': 'Cafés', 'shortName': 'Café', 'icon': {'prefix': 'https://ss3.4sqi.net/img/categories_v2/food/cafe_', 'suffix': '.png'}, 'primary': True}]                                                       \n",
       "4  [{'id': '4d954b0ea243a5684a65b473', 'name': 'Convenience Store', 'pluralName': 'Convenience Stores', 'shortName': 'Convenience Store', 'icon': {'prefix': 'https://ss3.4sqi.net/img/categories_v2/shops/conveniencestore_', 'suffix': '.png'}, 'primary': True}]   \n",
       "\n",
       "   hasPerk                        id  \\\n",
       "0  False    5750bd8ccd10585cb97d451a   \n",
       "1  False    5151781ce4b078463feb27bb   \n",
       "2  False    522b44ed498ea8137783364a   \n",
       "3  False    54062954498ea342599d88ec   \n",
       "4  False    5824652ddf0e3e14e2922d46   \n",
       "\n",
       "                                             location.address location.cc  \\\n",
       "0  Rua Araçatuba                                               BR           \n",
       "1  NaN                                                         BR           \n",
       "2  Rua FRANCISCO DA CUNHA 881                                  BR           \n",
       "3  NaN                                                         BR           \n",
       "4  Avenida Marechal Mascarenhas de Morais, 2349 - Imbiribeira  BR           \n",
       "\n",
       "  location.city location.country location.crossStreet  location.distance  \\\n",
       "0  Recife        Brasil           Rua Itaquice         488                 \n",
       "1  Recife        Brasil           NaN                  463                 \n",
       "2  Recife        Brasil           NaN                  557                 \n",
       "3  Recife        Brasil           NaN                  351                 \n",
       "4  Recife        Brasil           NaN                  911                 \n",
       "\n",
       "                                                          location.formattedAddress  \\\n",
       "0  [Rua Araçatuba (Rua Itaquice), Recife, PE, Brasil]                                 \n",
       "1  [Recife, PE, Brasil]                                                               \n",
       "2  [Rua FRANCISCO DA CUNHA 881, Recife, PE, Brasil]                                   \n",
       "3  [Recife, PE, Brasil]                                                               \n",
       "4  [Avenida Marechal Mascarenhas de Morais, 2349 - Imbiribeira, Recife, PE, Brasil]   \n",
       "\n",
       "                                                        location.labeledLatLngs  \\\n",
       "0  [{'label': 'display', 'lat': -8.104943, 'lng': -34.9189}]                      \n",
       "1  [{'label': 'display', 'lat': -8.112664556477947, 'lng': -34.91916699733227}]   \n",
       "2  [{'label': 'display', 'lat': -8.113959854715663, 'lng': -34.91652815889744}]   \n",
       "3  [{'label': 'display', 'lat': -8.106784776983789, 'lng': -34.91489634632055}]   \n",
       "4  [{'label': 'display', 'lat': -8.103994, 'lng': -34.910625}]                    \n",
       "\n",
       "   location.lat  location.lng location.state                         name  \\\n",
       "0 -8.104943     -34.918900     PE             Café da Manhã                 \n",
       "1 -8.112665     -34.919167     PE             Café da Manhã Hotel Marante   \n",
       "2 -8.113960     -34.916528     PE             Café Manhatan                 \n",
       "3 -8.106785     -34.914896     PE             Delta Cafe FBV                \n",
       "4 -8.103994     -34.910625     PE             Bar&Café - Conveniência       \n",
       "\n",
       "     referralId  \n",
       "0  v-1562952259  \n",
       "1  v-1562952259  \n",
       "2  v-1562952259  \n",
       "3  v-1562952259  \n",
       "4  v-1562952259  "
      ]
     },
     "execution_count": 58,
     "metadata": {},
     "output_type": "execute_result"
    }
   ],
   "source": [
    "# assign relevant part of JSON to venues\n",
    "venues = results['response']['venues']\n",
    "\n",
    "# tranform venues into a dataframe\n",
    "dataframe = json_normalize(venues)\n",
    "dataframe.head()"
   ]
  },
  {
   "cell_type": "markdown",
   "metadata": {
    "button": false,
    "deletable": true,
    "new_sheet": false,
    "run_control": {
     "read_only": false
    }
   },
   "source": [
    "#### Define information of interest and filter dataframe"
   ]
  },
  {
   "cell_type": "code",
   "execution_count": 59,
   "metadata": {
    "button": false,
    "collapsed": false,
    "deletable": true,
    "new_sheet": false,
    "run_control": {
     "read_only": false
    },
    "scrolled": true
   },
   "outputs": [
    {
     "data": {
      "text/html": [
       "<div>\n",
       "<style scoped>\n",
       "    .dataframe tbody tr th:only-of-type {\n",
       "        vertical-align: middle;\n",
       "    }\n",
       "\n",
       "    .dataframe tbody tr th {\n",
       "        vertical-align: top;\n",
       "    }\n",
       "\n",
       "    .dataframe thead th {\n",
       "        text-align: right;\n",
       "    }\n",
       "</style>\n",
       "<table border=\"1\" class=\"dataframe\">\n",
       "  <thead>\n",
       "    <tr style=\"text-align: right;\">\n",
       "      <th></th>\n",
       "      <th>name</th>\n",
       "      <th>categories</th>\n",
       "      <th>address</th>\n",
       "      <th>cc</th>\n",
       "      <th>city</th>\n",
       "      <th>country</th>\n",
       "      <th>crossStreet</th>\n",
       "      <th>distance</th>\n",
       "      <th>formattedAddress</th>\n",
       "      <th>labeledLatLngs</th>\n",
       "      <th>lat</th>\n",
       "      <th>lng</th>\n",
       "      <th>state</th>\n",
       "      <th>id</th>\n",
       "    </tr>\n",
       "  </thead>\n",
       "  <tbody>\n",
       "    <tr>\n",
       "      <th>0</th>\n",
       "      <td>Café da Manhã</td>\n",
       "      <td>Breakfast Spot</td>\n",
       "      <td>Rua Araçatuba</td>\n",
       "      <td>BR</td>\n",
       "      <td>Recife</td>\n",
       "      <td>Brasil</td>\n",
       "      <td>Rua Itaquice</td>\n",
       "      <td>488</td>\n",
       "      <td>[Rua Araçatuba (Rua Itaquice), Recife, PE, Brasil]</td>\n",
       "      <td>[{'label': 'display', 'lat': -8.104943, 'lng': -34.9189}]</td>\n",
       "      <td>-8.104943</td>\n",
       "      <td>-34.918900</td>\n",
       "      <td>PE</td>\n",
       "      <td>5750bd8ccd10585cb97d451a</td>\n",
       "    </tr>\n",
       "    <tr>\n",
       "      <th>1</th>\n",
       "      <td>Café da Manhã Hotel Marante</td>\n",
       "      <td>Breakfast Spot</td>\n",
       "      <td>NaN</td>\n",
       "      <td>BR</td>\n",
       "      <td>Recife</td>\n",
       "      <td>Brasil</td>\n",
       "      <td>NaN</td>\n",
       "      <td>463</td>\n",
       "      <td>[Recife, PE, Brasil]</td>\n",
       "      <td>[{'label': 'display', 'lat': -8.112664556477947, 'lng': -34.91916699733227}]</td>\n",
       "      <td>-8.112665</td>\n",
       "      <td>-34.919167</td>\n",
       "      <td>PE</td>\n",
       "      <td>5151781ce4b078463feb27bb</td>\n",
       "    </tr>\n",
       "    <tr>\n",
       "      <th>2</th>\n",
       "      <td>Café Manhatan</td>\n",
       "      <td>Other Nightlife</td>\n",
       "      <td>Rua FRANCISCO DA CUNHA 881</td>\n",
       "      <td>BR</td>\n",
       "      <td>Recife</td>\n",
       "      <td>Brasil</td>\n",
       "      <td>NaN</td>\n",
       "      <td>557</td>\n",
       "      <td>[Rua FRANCISCO DA CUNHA 881, Recife, PE, Brasil]</td>\n",
       "      <td>[{'label': 'display', 'lat': -8.113959854715663, 'lng': -34.91652815889744}]</td>\n",
       "      <td>-8.113960</td>\n",
       "      <td>-34.916528</td>\n",
       "      <td>PE</td>\n",
       "      <td>522b44ed498ea8137783364a</td>\n",
       "    </tr>\n",
       "    <tr>\n",
       "      <th>3</th>\n",
       "      <td>Delta Cafe FBV</td>\n",
       "      <td>Café</td>\n",
       "      <td>NaN</td>\n",
       "      <td>BR</td>\n",
       "      <td>Recife</td>\n",
       "      <td>Brasil</td>\n",
       "      <td>NaN</td>\n",
       "      <td>351</td>\n",
       "      <td>[Recife, PE, Brasil]</td>\n",
       "      <td>[{'label': 'display', 'lat': -8.106784776983789, 'lng': -34.91489634632055}]</td>\n",
       "      <td>-8.106785</td>\n",
       "      <td>-34.914896</td>\n",
       "      <td>PE</td>\n",
       "      <td>54062954498ea342599d88ec</td>\n",
       "    </tr>\n",
       "    <tr>\n",
       "      <th>4</th>\n",
       "      <td>Bar&amp;Café - Conveniência</td>\n",
       "      <td>Convenience Store</td>\n",
       "      <td>Avenida Marechal Mascarenhas de Morais, 2349 - Imbiribeira</td>\n",
       "      <td>BR</td>\n",
       "      <td>Recife</td>\n",
       "      <td>Brasil</td>\n",
       "      <td>NaN</td>\n",
       "      <td>911</td>\n",
       "      <td>[Avenida Marechal Mascarenhas de Morais, 2349 - Imbiribeira, Recife, PE, Brasil]</td>\n",
       "      <td>[{'label': 'display', 'lat': -8.103994, 'lng': -34.910625}]</td>\n",
       "      <td>-8.103994</td>\n",
       "      <td>-34.910625</td>\n",
       "      <td>PE</td>\n",
       "      <td>5824652ddf0e3e14e2922d46</td>\n",
       "    </tr>\n",
       "    <tr>\n",
       "      <th>5</th>\n",
       "      <td>Delta Café - FPS/IMIP</td>\n",
       "      <td>Café</td>\n",
       "      <td>Avenida Jean Emile Favre</td>\n",
       "      <td>BR</td>\n",
       "      <td>Recife</td>\n",
       "      <td>Brasil</td>\n",
       "      <td>NaN</td>\n",
       "      <td>371</td>\n",
       "      <td>[Avenida Jean Emile Favre, Recife, PE, Brasil]</td>\n",
       "      <td>[{'label': 'display', 'lat': -8.106580932979988, 'lng': -34.91485326173503}]</td>\n",
       "      <td>-8.106581</td>\n",
       "      <td>-34.914853</td>\n",
       "      <td>PE</td>\n",
       "      <td>5436b2b2498e976c5d536523</td>\n",
       "    </tr>\n",
       "    <tr>\n",
       "      <th>6</th>\n",
       "      <td>Tomando meu café da manhã</td>\n",
       "      <td>Building</td>\n",
       "      <td>Rua Rio Amazonas</td>\n",
       "      <td>BR</td>\n",
       "      <td>Recife</td>\n",
       "      <td>Brasil</td>\n",
       "      <td>NaN</td>\n",
       "      <td>461</td>\n",
       "      <td>[Rua Rio Amazonas, Recife, PE, Brasil]</td>\n",
       "      <td>[{'label': 'display', 'lat': -8.112647551865225, 'lng': -34.919156226729925}]</td>\n",
       "      <td>-8.112648</td>\n",
       "      <td>-34.919156</td>\n",
       "      <td>PE</td>\n",
       "      <td>51c029dc498e07ac7c24c6ca</td>\n",
       "    </tr>\n",
       "    <tr>\n",
       "      <th>7</th>\n",
       "      <td>cafeteria sao bras</td>\n",
       "      <td>Coffee Shop</td>\n",
       "      <td>NaN</td>\n",
       "      <td>BR</td>\n",
       "      <td>Recife</td>\n",
       "      <td>Brasil</td>\n",
       "      <td>NaN</td>\n",
       "      <td>436</td>\n",
       "      <td>[Recife, PE, Brasil]</td>\n",
       "      <td>[{'label': 'display', 'lat': -8.108020015571038, 'lng': -34.921019520595706}]</td>\n",
       "      <td>-8.108020</td>\n",
       "      <td>-34.921020</td>\n",
       "      <td>PE</td>\n",
       "      <td>56756ad3498e829946741218</td>\n",
       "    </tr>\n",
       "    <tr>\n",
       "      <th>8</th>\n",
       "      <td>Café's</td>\n",
       "      <td>Café</td>\n",
       "      <td>Av. Mascarenhas de Moraes 3402</td>\n",
       "      <td>BR</td>\n",
       "      <td>Recife</td>\n",
       "      <td>Brasil</td>\n",
       "      <td>Sam's Club</td>\n",
       "      <td>719</td>\n",
       "      <td>[Av. Mascarenhas de Moraes 3402 (Sam's Club), Recife, PE, Brasil]</td>\n",
       "      <td>[{'label': 'display', 'lat': -8.114531931061341, 'lng': -34.91381272516872}]</td>\n",
       "      <td>-8.114532</td>\n",
       "      <td>-34.913813</td>\n",
       "      <td>PE</td>\n",
       "      <td>4f25a5f8e4b0eec7ff6a6417</td>\n",
       "    </tr>\n",
       "    <tr>\n",
       "      <th>9</th>\n",
       "      <td>Cafeteira São Braz</td>\n",
       "      <td>Café</td>\n",
       "      <td>NaN</td>\n",
       "      <td>BR</td>\n",
       "      <td>Recife</td>\n",
       "      <td>Brasil</td>\n",
       "      <td>NaN</td>\n",
       "      <td>441</td>\n",
       "      <td>[Recife, PE, Brasil]</td>\n",
       "      <td>[{'label': 'display', 'lat': -8.10809495611095, 'lng': -34.92108414277018}]</td>\n",
       "      <td>-8.108095</td>\n",
       "      <td>-34.921084</td>\n",
       "      <td>PE</td>\n",
       "      <td>5394cf60498e7b5d5b991334</td>\n",
       "    </tr>\n",
       "    <tr>\n",
       "      <th>10</th>\n",
       "      <td>Cafeteria Assaí Atacadista - Imbiribeira</td>\n",
       "      <td>Café</td>\n",
       "      <td>Av. Marechal Mascarenhas de Moraes, 2.180</td>\n",
       "      <td>BR</td>\n",
       "      <td>NaN</td>\n",
       "      <td>Brasil</td>\n",
       "      <td>NaN</td>\n",
       "      <td>1102</td>\n",
       "      <td>[Av. Marechal Mascarenhas de Moraes, 2.180, Imbiribeira - Recife, PE, Brasil]</td>\n",
       "      <td>[{'label': 'display', 'lat': -8.101389822705647, 'lng': -34.91076841616441}]</td>\n",
       "      <td>-8.101390</td>\n",
       "      <td>-34.910768</td>\n",
       "      <td>Pernambuco</td>\n",
       "      <td>5690f7bf498e0efd2f006fcd</td>\n",
       "    </tr>\n",
       "    <tr>\n",
       "      <th>11</th>\n",
       "      <td>Cafeteria Assaí Atacadista - Imbiribeira</td>\n",
       "      <td>Café</td>\n",
       "      <td>Av. Marechal Mascarenhas de Moraes, 2.180</td>\n",
       "      <td>BR</td>\n",
       "      <td>NaN</td>\n",
       "      <td>Brasil</td>\n",
       "      <td>NaN</td>\n",
       "      <td>1101</td>\n",
       "      <td>[Av. Marechal Mascarenhas de Moraes, 2.180, Imbiribeira - Recife, PE, Brasil]</td>\n",
       "      <td>[{'label': 'display', 'lat': -8.101386, 'lng': -34.910793}]</td>\n",
       "      <td>-8.101386</td>\n",
       "      <td>-34.910793</td>\n",
       "      <td>Pernambuco</td>\n",
       "      <td>5690f6dc498ea42fe7c3699f</td>\n",
       "    </tr>\n",
       "    <tr>\n",
       "      <th>12</th>\n",
       "      <td>Delta Cafés</td>\n",
       "      <td>Café</td>\n",
       "      <td>Av. Mascarenhas de Moraes, 2555A</td>\n",
       "      <td>BR</td>\n",
       "      <td>Recife</td>\n",
       "      <td>Brasil</td>\n",
       "      <td>NaN</td>\n",
       "      <td>565</td>\n",
       "      <td>[Av. Mascarenhas de Moraes, 2555A, Recife, PE, Brasil]</td>\n",
       "      <td>[{'label': 'display', 'lat': -8.109964970969225, 'lng': -34.91214427450969}]</td>\n",
       "      <td>-8.109965</td>\n",
       "      <td>-34.912144</td>\n",
       "      <td>PE</td>\n",
       "      <td>4e0cadb61838fa426aca8137</td>\n",
       "    </tr>\n",
       "  </tbody>\n",
       "</table>\n",
       "</div>"
      ],
      "text/plain": [
       "                                        name         categories  \\\n",
       "0   Café da Manhã                             Breakfast Spot      \n",
       "1   Café da Manhã Hotel Marante               Breakfast Spot      \n",
       "2   Café Manhatan                             Other Nightlife     \n",
       "3   Delta Cafe FBV                            Café                \n",
       "4   Bar&Café - Conveniência                   Convenience Store   \n",
       "5   Delta Café - FPS/IMIP                     Café                \n",
       "6   Tomando meu café da manhã                 Building            \n",
       "7   cafeteria sao bras                        Coffee Shop         \n",
       "8   Café's                                    Café                \n",
       "9   Cafeteira São Braz                        Café                \n",
       "10  Cafeteria Assaí Atacadista - Imbiribeira  Café                \n",
       "11  Cafeteria Assaí Atacadista - Imbiribeira  Café                \n",
       "12  Delta Cafés                               Café                \n",
       "\n",
       "                                                       address  cc    city  \\\n",
       "0   Rua Araçatuba                                               BR  Recife   \n",
       "1   NaN                                                         BR  Recife   \n",
       "2   Rua FRANCISCO DA CUNHA 881                                  BR  Recife   \n",
       "3   NaN                                                         BR  Recife   \n",
       "4   Avenida Marechal Mascarenhas de Morais, 2349 - Imbiribeira  BR  Recife   \n",
       "5   Avenida Jean Emile Favre                                    BR  Recife   \n",
       "6   Rua Rio Amazonas                                            BR  Recife   \n",
       "7   NaN                                                         BR  Recife   \n",
       "8   Av. Mascarenhas de Moraes 3402                              BR  Recife   \n",
       "9   NaN                                                         BR  Recife   \n",
       "10  Av. Marechal Mascarenhas de Moraes, 2.180                   BR  NaN      \n",
       "11  Av. Marechal Mascarenhas de Moraes, 2.180                   BR  NaN      \n",
       "12  Av. Mascarenhas de Moraes, 2555A                            BR  Recife   \n",
       "\n",
       "   country   crossStreet  distance  \\\n",
       "0   Brasil  Rua Itaquice  488        \n",
       "1   Brasil  NaN           463        \n",
       "2   Brasil  NaN           557        \n",
       "3   Brasil  NaN           351        \n",
       "4   Brasil  NaN           911        \n",
       "5   Brasil  NaN           371        \n",
       "6   Brasil  NaN           461        \n",
       "7   Brasil  NaN           436        \n",
       "8   Brasil  Sam's Club    719        \n",
       "9   Brasil  NaN           441        \n",
       "10  Brasil  NaN           1102       \n",
       "11  Brasil  NaN           1101       \n",
       "12  Brasil  NaN           565        \n",
       "\n",
       "                                                                    formattedAddress  \\\n",
       "0   [Rua Araçatuba (Rua Itaquice), Recife, PE, Brasil]                                 \n",
       "1   [Recife, PE, Brasil]                                                               \n",
       "2   [Rua FRANCISCO DA CUNHA 881, Recife, PE, Brasil]                                   \n",
       "3   [Recife, PE, Brasil]                                                               \n",
       "4   [Avenida Marechal Mascarenhas de Morais, 2349 - Imbiribeira, Recife, PE, Brasil]   \n",
       "5   [Avenida Jean Emile Favre, Recife, PE, Brasil]                                     \n",
       "6   [Rua Rio Amazonas, Recife, PE, Brasil]                                             \n",
       "7   [Recife, PE, Brasil]                                                               \n",
       "8   [Av. Mascarenhas de Moraes 3402 (Sam's Club), Recife, PE, Brasil]                  \n",
       "9   [Recife, PE, Brasil]                                                               \n",
       "10  [Av. Marechal Mascarenhas de Moraes, 2.180, Imbiribeira - Recife, PE, Brasil]      \n",
       "11  [Av. Marechal Mascarenhas de Moraes, 2.180, Imbiribeira - Recife, PE, Brasil]      \n",
       "12  [Av. Mascarenhas de Moraes, 2555A, Recife, PE, Brasil]                             \n",
       "\n",
       "                                                                   labeledLatLngs  \\\n",
       "0   [{'label': 'display', 'lat': -8.104943, 'lng': -34.9189}]                       \n",
       "1   [{'label': 'display', 'lat': -8.112664556477947, 'lng': -34.91916699733227}]    \n",
       "2   [{'label': 'display', 'lat': -8.113959854715663, 'lng': -34.91652815889744}]    \n",
       "3   [{'label': 'display', 'lat': -8.106784776983789, 'lng': -34.91489634632055}]    \n",
       "4   [{'label': 'display', 'lat': -8.103994, 'lng': -34.910625}]                     \n",
       "5   [{'label': 'display', 'lat': -8.106580932979988, 'lng': -34.91485326173503}]    \n",
       "6   [{'label': 'display', 'lat': -8.112647551865225, 'lng': -34.919156226729925}]   \n",
       "7   [{'label': 'display', 'lat': -8.108020015571038, 'lng': -34.921019520595706}]   \n",
       "8   [{'label': 'display', 'lat': -8.114531931061341, 'lng': -34.91381272516872}]    \n",
       "9   [{'label': 'display', 'lat': -8.10809495611095, 'lng': -34.92108414277018}]     \n",
       "10  [{'label': 'display', 'lat': -8.101389822705647, 'lng': -34.91076841616441}]    \n",
       "11  [{'label': 'display', 'lat': -8.101386, 'lng': -34.910793}]                     \n",
       "12  [{'label': 'display', 'lat': -8.109964970969225, 'lng': -34.91214427450969}]    \n",
       "\n",
       "         lat        lng       state                        id  \n",
       "0  -8.104943 -34.918900  PE          5750bd8ccd10585cb97d451a  \n",
       "1  -8.112665 -34.919167  PE          5151781ce4b078463feb27bb  \n",
       "2  -8.113960 -34.916528  PE          522b44ed498ea8137783364a  \n",
       "3  -8.106785 -34.914896  PE          54062954498ea342599d88ec  \n",
       "4  -8.103994 -34.910625  PE          5824652ddf0e3e14e2922d46  \n",
       "5  -8.106581 -34.914853  PE          5436b2b2498e976c5d536523  \n",
       "6  -8.112648 -34.919156  PE          51c029dc498e07ac7c24c6ca  \n",
       "7  -8.108020 -34.921020  PE          56756ad3498e829946741218  \n",
       "8  -8.114532 -34.913813  PE          4f25a5f8e4b0eec7ff6a6417  \n",
       "9  -8.108095 -34.921084  PE          5394cf60498e7b5d5b991334  \n",
       "10 -8.101390 -34.910768  Pernambuco  5690f7bf498e0efd2f006fcd  \n",
       "11 -8.101386 -34.910793  Pernambuco  5690f6dc498ea42fe7c3699f  \n",
       "12 -8.109965 -34.912144  PE          4e0cadb61838fa426aca8137  "
      ]
     },
     "execution_count": 59,
     "metadata": {},
     "output_type": "execute_result"
    }
   ],
   "source": [
    "# keep only columns that include venue name, and anything that is associated with location\n",
    "filtered_columns = ['name', 'categories'] + [col for col in dataframe.columns if col.startswith('location.')] + ['id']\n",
    "dataframe_filtered = dataframe.loc[:, filtered_columns]\n",
    "\n",
    "# function that extracts the category of the venue\n",
    "def get_category_type(row):\n",
    "    try:\n",
    "        categories_list = row['categories']\n",
    "    except:\n",
    "        categories_list = row['venue.categories']\n",
    "        \n",
    "    if len(categories_list) == 0:\n",
    "        return None\n",
    "    else:\n",
    "        return categories_list[0]['name']\n",
    "\n",
    "# filter the category for each row\n",
    "dataframe_filtered['categories'] = dataframe_filtered.apply(get_category_type, axis=1)\n",
    "\n",
    "# clean column names by keeping only last term\n",
    "dataframe_filtered.columns = [column.split('.')[-1] for column in dataframe_filtered.columns]\n",
    "\n",
    "dataframe_filtered"
   ]
  },
  {
   "cell_type": "markdown",
   "metadata": {
    "button": false,
    "deletable": true,
    "new_sheet": false,
    "run_control": {
     "read_only": false
    }
   },
   "source": [
    "#### Let's visualize the Italian restaurants that are nearby"
   ]
  },
  {
   "cell_type": "code",
   "execution_count": 60,
   "metadata": {
    "button": false,
    "collapsed": false,
    "deletable": true,
    "new_sheet": false,
    "run_control": {
     "read_only": false
    }
   },
   "outputs": [
    {
     "data": {
      "text/plain": [
       "0     Café da Manhã                           \n",
       "1     Café da Manhã Hotel Marante             \n",
       "2     Café Manhatan                           \n",
       "3     Delta Cafe FBV                          \n",
       "4     Bar&Café - Conveniência                 \n",
       "5     Delta Café - FPS/IMIP                   \n",
       "6     Tomando meu café da manhã               \n",
       "7     cafeteria sao bras                      \n",
       "8     Café's                                  \n",
       "9     Cafeteira São Braz                      \n",
       "10    Cafeteria Assaí Atacadista - Imbiribeira\n",
       "11    Cafeteria Assaí Atacadista - Imbiribeira\n",
       "12    Delta Cafés                             \n",
       "Name: name, dtype: object"
      ]
     },
     "execution_count": 60,
     "metadata": {},
     "output_type": "execute_result"
    }
   ],
   "source": [
    "dataframe_filtered.name"
   ]
  },
  {
   "cell_type": "code",
   "execution_count": 61,
   "metadata": {
    "button": false,
    "collapsed": false,
    "deletable": true,
    "new_sheet": false,
    "run_control": {
     "read_only": false
    },
    "scrolled": false
   },
   "outputs": [
    {
     "data": {
      "text/html": [
       "<div style=\"width:100%;\"><div style=\"position:relative;width:100%;height:0;padding-bottom:60%;\"><iframe src=\"data:text/html;charset=utf-8;base64,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\" style=\"position:absolute;width:100%;height:100%;left:0;top:0;border:none !important;\" allowfullscreen webkitallowfullscreen mozallowfullscreen></iframe></div></div>"
      ],
      "text/plain": [
       "<folium.folium.Map at 0x7f5bfa0d4cf8>"
      ]
     },
     "execution_count": 61,
     "metadata": {},
     "output_type": "execute_result"
    }
   ],
   "source": [
    "venues_map = folium.Map(location=[latitude, longitude], zoom_start=13) # generate map centred around the Conrad Hotel\n",
    "\n",
    "# add a red circle marker to represent the Conrad Hotel\n",
    "folium.features.CircleMarker(\n",
    "    [latitude, longitude],\n",
    "    radius=10,\n",
    "    color='red',\n",
    "    popup='Conrad Hotel',\n",
    "    fill = True,\n",
    "    fill_color = 'red',\n",
    "    fill_opacity = 0.6\n",
    ").add_to(venues_map)\n",
    "\n",
    "# add the Italian restaurants as blue circle markers\n",
    "for lat, lng, label in zip(dataframe_filtered.lat, dataframe_filtered.lng, dataframe_filtered.categories):\n",
    "    folium.features.CircleMarker(\n",
    "        [lat, lng],\n",
    "        radius=5,\n",
    "        color='blue',\n",
    "        popup=label,\n",
    "        fill = True,\n",
    "        fill_color='blue',\n",
    "        fill_opacity=0.6\n",
    "    ).add_to(venues_map)\n",
    "\n",
    "# display map\n",
    "venues_map"
   ]
  },
  {
   "cell_type": "markdown",
   "metadata": {
    "button": false,
    "deletable": true,
    "new_sheet": false,
    "run_control": {
     "read_only": false
    }
   },
   "source": [
    "   "
   ]
  },
  {
   "cell_type": "markdown",
   "metadata": {
    "button": false,
    "deletable": true,
    "new_sheet": false,
    "run_control": {
     "read_only": false
    }
   },
   "source": [
    "<a id=\"item2\"></a>"
   ]
  },
  {
   "cell_type": "markdown",
   "metadata": {
    "button": false,
    "deletable": true,
    "new_sheet": false,
    "run_control": {
     "read_only": false
    }
   },
   "source": [
    "## 2. Explore a Given Venue\n",
    "> `https://api.foursquare.com/v2/venues/`**VENUE_ID**`?client_id=`**CLIENT_ID**`&client_secret=`**CLIENT_SECRET**`&v=`**VERSION**"
   ]
  },
  {
   "cell_type": "markdown",
   "metadata": {
    "button": false,
    "deletable": true,
    "new_sheet": false,
    "run_control": {
     "read_only": false
    }
   },
   "source": [
    "### A. Let's explore the closest Italian restaurant -- _Harry's Italian Pizza Bar_"
   ]
  },
  {
   "cell_type": "code",
   "execution_count": 62,
   "metadata": {
    "button": false,
    "collapsed": false,
    "deletable": true,
    "new_sheet": false,
    "run_control": {
     "read_only": false
    }
   },
   "outputs": [
    {
     "data": {
      "text/plain": [
       "'https://api.foursquare.com/v2/venues/5750bd8ccd10585cb97d451a?client_id=1GU25OCTP5HKPFYDDYM1W2T3Q4VK0ID0XB3EJYUQ0BDZPL1D&client_secret=NSJW03UNRYXOHZYYS4HQSUWFOMLUW0D2F24MCXFAV1H0NBB2&v=20180604'"
      ]
     },
     "execution_count": 62,
     "metadata": {},
     "output_type": "execute_result"
    }
   ],
   "source": [
    "#venue_id = '4fa862b3e4b0ebff2f749f06' # ID of Harry's Italian Pizza Bar\n",
    "venue_id = '5750bd8ccd10585cb97d451a'\n",
    "url = 'https://api.foursquare.com/v2/venues/{}?client_id={}&client_secret={}&v={}'.format(venue_id, CLIENT_ID, CLIENT_SECRET, VERSION)\n",
    "url"
   ]
  },
  {
   "cell_type": "markdown",
   "metadata": {
    "button": false,
    "deletable": true,
    "new_sheet": false,
    "run_control": {
     "read_only": false
    }
   },
   "source": [
    "#### Send GET request for result"
   ]
  },
  {
   "cell_type": "code",
   "execution_count": 63,
   "metadata": {
    "button": false,
    "collapsed": false,
    "deletable": true,
    "new_sheet": false,
    "run_control": {
     "read_only": false
    }
   },
   "outputs": [
    {
     "name": "stdout",
     "output_type": "stream",
     "text": [
      "dict_keys(['id', 'name', 'contact', 'location', 'canonicalUrl', 'categories', 'verified', 'stats', 'price', 'likes', 'dislike', 'ok', 'allowMenuUrlEdit', 'beenHere', 'specials', 'photos', 'reasons', 'hereNow', 'createdAt', 'tips', 'shortUrl', 'timeZone', 'listed', 'pageUpdates', 'inbox', 'attributes'])\n"
     ]
    },
    {
     "data": {
      "text/plain": [
       "{'id': '5750bd8ccd10585cb97d451a',\n",
       " 'name': 'Café da Manhã',\n",
       " 'contact': {},\n",
       " 'location': {'address': 'Rua Araçatuba',\n",
       "  'crossStreet': 'Rua Itaquice',\n",
       "  'lat': -8.104943,\n",
       "  'lng': -34.9189,\n",
       "  'labeledLatLngs': [{'label': 'display', 'lat': -8.104943, 'lng': -34.9189}],\n",
       "  'cc': 'BR',\n",
       "  'city': 'Recife',\n",
       "  'state': 'PE',\n",
       "  'country': 'Brasil',\n",
       "  'formattedAddress': ['Rua Araçatuba (Rua Itaquice)',\n",
       "   'Recife, PE',\n",
       "   'Brasil']},\n",
       " 'canonicalUrl': 'https://foursquare.com/v/caf%C3%A9-da-manh%C3%A3/5750bd8ccd10585cb97d451a',\n",
       " 'categories': [{'id': '4bf58dd8d48988d143941735',\n",
       "   'name': 'Breakfast Spot',\n",
       "   'pluralName': 'Breakfast Spots',\n",
       "   'shortName': 'Breakfast',\n",
       "   'icon': {'prefix': 'https://ss3.4sqi.net/img/categories_v2/food/breakfast_',\n",
       "    'suffix': '.png'},\n",
       "   'primary': True}],\n",
       " 'verified': False,\n",
       " 'stats': {'tipCount': 0},\n",
       " 'price': {'tier': 1, 'message': 'Cheap', 'currency': '$'},\n",
       " 'likes': {'count': 0, 'groups': []},\n",
       " 'dislike': False,\n",
       " 'ok': False,\n",
       " 'allowMenuUrlEdit': True,\n",
       " 'beenHere': {'count': 0,\n",
       "  'unconfirmedCount': 0,\n",
       "  'marked': False,\n",
       "  'lastCheckinExpiredAt': 0},\n",
       " 'specials': {'count': 0, 'items': []},\n",
       " 'photos': {'count': 0,\n",
       "  'groups': [{'type': 'checkin',\n",
       "    'name': \"Friends' check-in photos\",\n",
       "    'count': 0,\n",
       "    'items': []}],\n",
       "  'summary': 'No photos'},\n",
       " 'reasons': {'count': 0, 'items': []},\n",
       " 'hereNow': {'count': 0, 'summary': 'Nobody here', 'groups': []},\n",
       " 'createdAt': 1464909196,\n",
       " 'tips': {'count': 0,\n",
       "  'groups': [{'type': 'others', 'name': 'All tips', 'count': 0, 'items': []}]},\n",
       " 'shortUrl': 'http://4sq.com/25A1kdS',\n",
       " 'timeZone': 'America/Recife',\n",
       " 'listed': {'count': 0,\n",
       "  'groups': [{'type': 'others',\n",
       "    'name': 'Lists from other people',\n",
       "    'count': 0,\n",
       "    'items': []}]},\n",
       " 'pageUpdates': {'count': 0, 'items': []},\n",
       " 'inbox': {'count': 0, 'items': []},\n",
       " 'attributes': {'groups': [{'type': 'price',\n",
       "    'name': 'Price',\n",
       "    'summary': '$',\n",
       "    'count': 1,\n",
       "    'items': [{'displayName': 'Price',\n",
       "      'displayValue': '$',\n",
       "      'priceTier': 1}]}]}}"
      ]
     },
     "execution_count": 63,
     "metadata": {},
     "output_type": "execute_result"
    }
   ],
   "source": [
    "result = requests.get(url).json()\n",
    "print(result['response']['venue'].keys())\n",
    "result['response']['venue']"
   ]
  },
  {
   "cell_type": "markdown",
   "metadata": {
    "button": false,
    "deletable": true,
    "new_sheet": false,
    "run_control": {
     "read_only": false
    }
   },
   "source": [
    "### B. Get the venue's overall rating"
   ]
  },
  {
   "cell_type": "code",
   "execution_count": 64,
   "metadata": {
    "button": false,
    "collapsed": false,
    "deletable": true,
    "new_sheet": false,
    "run_control": {
     "read_only": false
    }
   },
   "outputs": [
    {
     "name": "stdout",
     "output_type": "stream",
     "text": [
      "This venue has not been rated yet.\n"
     ]
    }
   ],
   "source": [
    "try:\n",
    "    print(result['response']['venue']['rating'])\n",
    "except:\n",
    "    print('This venue has not been rated yet.')"
   ]
  },
  {
   "cell_type": "markdown",
   "metadata": {
    "button": false,
    "deletable": true,
    "new_sheet": false,
    "run_control": {
     "read_only": false
    }
   },
   "source": [
    "That is not a very good rating. Let's check the rating of the second closest Italian restaurant."
   ]
  },
  {
   "cell_type": "code",
   "execution_count": 65,
   "metadata": {
    "button": false,
    "collapsed": false,
    "deletable": true,
    "new_sheet": false,
    "run_control": {
     "read_only": false
    }
   },
   "outputs": [
    {
     "name": "stdout",
     "output_type": "stream",
     "text": [
      "This venue has not been rated yet.\n"
     ]
    }
   ],
   "source": [
    "venue_id = '4f3232e219836c91c7bfde94' # ID of Conca Cucina Italian Restaurant\n",
    "url = 'https://api.foursquare.com/v2/venues/{}?client_id={}&client_secret={}&v={}'.format(venue_id, CLIENT_ID, CLIENT_SECRET, VERSION)\n",
    "\n",
    "result = requests.get(url).json()\n",
    "try:\n",
    "    print(result['response']['venue']['rating'])\n",
    "except:\n",
    "    print('This venue has not been rated yet.')"
   ]
  },
  {
   "cell_type": "markdown",
   "metadata": {
    "button": false,
    "deletable": true,
    "new_sheet": false,
    "run_control": {
     "read_only": false
    }
   },
   "source": [
    "Since this restaurant has no ratings, let's check the third restaurant."
   ]
  },
  {
   "cell_type": "code",
   "execution_count": 66,
   "metadata": {
    "button": false,
    "collapsed": false,
    "deletable": true,
    "new_sheet": false,
    "run_control": {
     "read_only": false
    }
   },
   "outputs": [
    {
     "name": "stdout",
     "output_type": "stream",
     "text": [
      "8.0\n"
     ]
    }
   ],
   "source": [
    "venue_id = '3fd66200f964a520f4e41ee3' # ID of Ecco\n",
    "url = 'https://api.foursquare.com/v2/venues/{}?client_id={}&client_secret={}&v={}'.format(venue_id, CLIENT_ID, CLIENT_SECRET, VERSION)\n",
    "\n",
    "result = requests.get(url).json()\n",
    "try:\n",
    "    print(result['response']['venue']['rating'])\n",
    "except:\n",
    "    print('This venue has not been rated yet.')"
   ]
  },
  {
   "cell_type": "markdown",
   "metadata": {
    "button": false,
    "deletable": true,
    "new_sheet": false,
    "run_control": {
     "read_only": false
    }
   },
   "source": [
    "Since this restaurant has a slightly better rating, let's explore it further."
   ]
  },
  {
   "cell_type": "markdown",
   "metadata": {
    "button": false,
    "deletable": true,
    "new_sheet": false,
    "run_control": {
     "read_only": false
    }
   },
   "source": [
    "### C. Get the number of tips"
   ]
  },
  {
   "cell_type": "code",
   "execution_count": 67,
   "metadata": {
    "button": false,
    "collapsed": false,
    "deletable": true,
    "new_sheet": false,
    "run_control": {
     "read_only": false
    }
   },
   "outputs": [
    {
     "data": {
      "text/plain": [
       "17"
      ]
     },
     "execution_count": 67,
     "metadata": {},
     "output_type": "execute_result"
    }
   ],
   "source": [
    "result['response']['venue']['tips']['count']"
   ]
  },
  {
   "cell_type": "markdown",
   "metadata": {
    "button": false,
    "deletable": true,
    "new_sheet": false,
    "run_control": {
     "read_only": false
    }
   },
   "source": [
    "\n",
    "### D. Get the venue's tips\n",
    "> `https://api.foursquare.com/v2/venues/`**VENUE_ID**`/tips?client_id=`**CLIENT_ID**`&client_secret=`**CLIENT_SECRET**`&v=`**VERSION**`&limit=`**LIMIT**"
   ]
  },
  {
   "cell_type": "markdown",
   "metadata": {
    "button": false,
    "deletable": true,
    "new_sheet": false,
    "run_control": {
     "read_only": false
    }
   },
   "source": [
    "#### Create URL and send GET request. Make sure to set limit to get all tips"
   ]
  },
  {
   "cell_type": "code",
   "execution_count": 68,
   "metadata": {
    "button": false,
    "collapsed": false,
    "deletable": true,
    "new_sheet": false,
    "run_control": {
     "read_only": false
    }
   },
   "outputs": [
    {
     "data": {
      "text/plain": [
       "{'meta': {'code': 200, 'requestId': '5d28c57092e7a90e79e1cc15'},\n",
       " 'response': {'tips': {'count': 17,\n",
       "   'items': [{'id': '5ab1cb46c9a517174651d3fe',\n",
       "     'createdAt': 1521601350,\n",
       "     'text': 'A+ Italian food! Trust me on this: my mom’s side of the family is 100% Italian. I was born and bred to know good pasta when I see it, and Ecco is one of my all-time NYC favorites',\n",
       "     'type': 'user',\n",
       "     'canonicalUrl': 'https://foursquare.com/item/5ab1cb46c9a517174651d3fe',\n",
       "     'lang': 'en',\n",
       "     'likes': {'count': 0, 'groups': []},\n",
       "     'logView': True,\n",
       "     'agreeCount': 3,\n",
       "     'disagreeCount': 0,\n",
       "     'lastVoteText': 'Upvoted May 14',\n",
       "     'lastUpvoteTimestamp': 1557868336,\n",
       "     'todo': {'count': 0},\n",
       "     'user': {'id': '484542633',\n",
       "      'firstName': 'Nick',\n",
       "      'lastName': 'El-Tawil',\n",
       "      'gender': 'male',\n",
       "      'photo': {'prefix': 'https://fastly.4sqi.net/img/user/',\n",
       "       'suffix': '/484542633_mK2Yum7T_7Tn9fWpndidJsmw2Hof_6T5vJBKCHPLMK5OL-U5ZiJGj51iwBstcpDLYa3Zvhvis.jpg'}},\n",
       "     'authorInteractionType': 'liked'}]}}}"
      ]
     },
     "execution_count": 68,
     "metadata": {},
     "output_type": "execute_result"
    }
   ],
   "source": [
    "## Ecco Tips\n",
    "limit = 15 # set limit to be greater than or equal to the total number of tips\n",
    "url = 'https://api.foursquare.com/v2/venues/{}/tips?client_id={}&client_secret={}&v={}&limit={}'.format(venue_id, CLIENT_ID, CLIENT_SECRET, VERSION, limit)\n",
    "\n",
    "results = requests.get(url).json()\n",
    "results"
   ]
  },
  {
   "cell_type": "markdown",
   "metadata": {
    "button": false,
    "deletable": true,
    "new_sheet": false,
    "run_control": {
     "read_only": false
    }
   },
   "source": [
    "#### Get tips and list of associated features"
   ]
  },
  {
   "cell_type": "code",
   "execution_count": 28,
   "metadata": {
    "button": false,
    "collapsed": false,
    "deletable": true,
    "new_sheet": false,
    "run_control": {
     "read_only": false
    }
   },
   "outputs": [
    {
     "data": {
      "text/plain": [
       "dict_keys(['id', 'createdAt', 'text', 'type', 'canonicalUrl', 'lang', 'likes', 'logView', 'agreeCount', 'disagreeCount', 'lastVoteText', 'lastUpvoteTimestamp', 'todo', 'user', 'authorInteractionType'])"
      ]
     },
     "execution_count": 28,
     "metadata": {},
     "output_type": "execute_result"
    }
   ],
   "source": [
    "tips = results['response']['tips']['items']\n",
    "\n",
    "tip = results['response']['tips']['items'][0]\n",
    "tip.keys()"
   ]
  },
  {
   "cell_type": "markdown",
   "metadata": {
    "button": false,
    "deletable": true,
    "new_sheet": false,
    "run_control": {
     "read_only": false
    }
   },
   "source": [
    "#### Format column width and display all tips"
   ]
  },
  {
   "cell_type": "code",
   "execution_count": 29,
   "metadata": {
    "button": false,
    "collapsed": false,
    "deletable": true,
    "new_sheet": false,
    "run_control": {
     "read_only": false
    },
    "scrolled": false
   },
   "outputs": [
    {
     "data": {
      "text/html": [
       "<div>\n",
       "<style scoped>\n",
       "    .dataframe tbody tr th:only-of-type {\n",
       "        vertical-align: middle;\n",
       "    }\n",
       "\n",
       "    .dataframe tbody tr th {\n",
       "        vertical-align: top;\n",
       "    }\n",
       "\n",
       "    .dataframe thead th {\n",
       "        text-align: right;\n",
       "    }\n",
       "</style>\n",
       "<table border=\"1\" class=\"dataframe\">\n",
       "  <thead>\n",
       "    <tr style=\"text-align: right;\">\n",
       "      <th></th>\n",
       "      <th>text</th>\n",
       "      <th>agreeCount</th>\n",
       "      <th>disagreeCount</th>\n",
       "      <th>id</th>\n",
       "      <th>user.firstName</th>\n",
       "      <th>user.lastName</th>\n",
       "      <th>user.gender</th>\n",
       "      <th>user.id</th>\n",
       "    </tr>\n",
       "  </thead>\n",
       "  <tbody>\n",
       "    <tr>\n",
       "      <th>0</th>\n",
       "      <td>A+ Italian food! Trust me on this: my mom’s side of the family is 100% Italian. I was born and bred to know good pasta when I see it, and Ecco is one of my all-time NYC favorites</td>\n",
       "      <td>3</td>\n",
       "      <td>0</td>\n",
       "      <td>5ab1cb46c9a517174651d3fe</td>\n",
       "      <td>Nick</td>\n",
       "      <td>El-Tawil</td>\n",
       "      <td>male</td>\n",
       "      <td>484542633</td>\n",
       "    </tr>\n",
       "  </tbody>\n",
       "</table>\n",
       "</div>"
      ],
      "text/plain": [
       "                                                                                                                                                                                 text  \\\n",
       "0  A+ Italian food! Trust me on this: my mom’s side of the family is 100% Italian. I was born and bred to know good pasta when I see it, and Ecco is one of my all-time NYC favorites   \n",
       "\n",
       "   agreeCount  disagreeCount                        id user.firstName  \\\n",
       "0  3           0              5ab1cb46c9a517174651d3fe  Nick            \n",
       "\n",
       "  user.lastName user.gender    user.id  \n",
       "0  El-Tawil      male        484542633  "
      ]
     },
     "execution_count": 29,
     "metadata": {},
     "output_type": "execute_result"
    }
   ],
   "source": [
    "pd.set_option('display.max_colwidth', -1)\n",
    "\n",
    "tips_df = json_normalize(tips) # json normalize tips\n",
    "\n",
    "# columns to keep\n",
    "filtered_columns = ['text', 'agreeCount', 'disagreeCount', 'id', 'user.firstName', 'user.lastName', 'user.gender', 'user.id']\n",
    "tips_filtered = tips_df.loc[:, filtered_columns]\n",
    "\n",
    "# display tips\n",
    "tips_filtered"
   ]
  },
  {
   "cell_type": "markdown",
   "metadata": {
    "button": false,
    "deletable": true,
    "new_sheet": false,
    "run_control": {
     "read_only": false
    }
   },
   "source": [
    "Now remember that because we are using a personal developer account, then we can access only 2 of the restaurant's tips, instead of all 15 tips."
   ]
  },
  {
   "cell_type": "markdown",
   "metadata": {
    "button": false,
    "deletable": true,
    "new_sheet": false,
    "run_control": {
     "read_only": false
    }
   },
   "source": [
    "   "
   ]
  },
  {
   "cell_type": "markdown",
   "metadata": {
    "button": false,
    "deletable": true,
    "new_sheet": false,
    "run_control": {
     "read_only": false
    }
   },
   "source": [
    "<a id=\"item3\"></a>"
   ]
  },
  {
   "cell_type": "markdown",
   "metadata": {
    "button": false,
    "deletable": true,
    "new_sheet": false,
    "run_control": {
     "read_only": false
    }
   },
   "source": [
    "## 3. Search a Foursquare User\n",
    "> `https://api.foursquare.com/v2/users/`**USER_ID**`?client_id=`**CLIENT_ID**`&client_secret=`**CLIENT_SECRET**`&v=`**VERSION**"
   ]
  },
  {
   "cell_type": "markdown",
   "metadata": {
    "button": false,
    "deletable": true,
    "new_sheet": false,
    "run_control": {
     "read_only": false
    }
   },
   "source": [
    "### Define URL, send GET request and display features associated with user"
   ]
  },
  {
   "cell_type": "code",
   "execution_count": 30,
   "metadata": {
    "button": false,
    "collapsed": false,
    "deletable": true,
    "new_sheet": false,
    "run_control": {
     "read_only": false
    }
   },
   "outputs": [
    {
     "data": {
      "text/plain": [
       "dict_keys(['id', 'firstName', 'lastName', 'gender', 'canonicalUrl', 'photo', 'friends', 'tips', 'homeCity', 'bio', 'contact', 'photos', 'type', 'mayorships', 'checkins', 'lists', 'lenses'])"
      ]
     },
     "execution_count": 30,
     "metadata": {},
     "output_type": "execute_result"
    }
   ],
   "source": [
    "user_id = '484542633' # user ID with most agree counts and complete profile\n",
    "\n",
    "url = 'https://api.foursquare.com/v2/users/{}?client_id={}&client_secret={}&v={}'.format(user_id, CLIENT_ID, CLIENT_SECRET, VERSION) # define URL\n",
    "\n",
    "# send GET request\n",
    "results = requests.get(url).json()\n",
    "user_data = results['response']['user']\n",
    "\n",
    "# display features associated with user\n",
    "user_data.keys()"
   ]
  },
  {
   "cell_type": "code",
   "execution_count": 31,
   "metadata": {
    "button": false,
    "collapsed": false,
    "deletable": true,
    "new_sheet": false,
    "run_control": {
     "read_only": false
    }
   },
   "outputs": [
    {
     "name": "stdout",
     "output_type": "stream",
     "text": [
      "First Name: Nick\n",
      "Last Name: El-Tawil\n",
      "Home City: New York, NY\n"
     ]
    }
   ],
   "source": [
    "print('First Name: ' + user_data['firstName'])\n",
    "print('Last Name: ' + user_data['lastName'])\n",
    "print('Home City: ' + user_data['homeCity'])"
   ]
  },
  {
   "cell_type": "markdown",
   "metadata": {
    "button": false,
    "deletable": true,
    "new_sheet": false,
    "run_control": {
     "read_only": false
    }
   },
   "source": [
    "#### How many tips has this user submitted?"
   ]
  },
  {
   "cell_type": "code",
   "execution_count": 32,
   "metadata": {
    "button": false,
    "collapsed": false,
    "deletable": true,
    "new_sheet": false,
    "run_control": {
     "read_only": false
    }
   },
   "outputs": [
    {
     "data": {
      "text/plain": [
       "{'count': 239}"
      ]
     },
     "execution_count": 32,
     "metadata": {},
     "output_type": "execute_result"
    }
   ],
   "source": [
    "user_data['tips']"
   ]
  },
  {
   "cell_type": "markdown",
   "metadata": {
    "button": false,
    "deletable": true,
    "new_sheet": false,
    "run_control": {
     "read_only": false
    }
   },
   "source": [
    "Wow! So it turns out that Nick is a very active Foursquare user, with more than 250 tips."
   ]
  },
  {
   "cell_type": "markdown",
   "metadata": {
    "button": false,
    "deletable": true,
    "new_sheet": false,
    "run_control": {
     "read_only": false
    }
   },
   "source": [
    "### Get User's tips"
   ]
  },
  {
   "cell_type": "code",
   "execution_count": 33,
   "metadata": {
    "button": false,
    "collapsed": false,
    "deletable": true,
    "new_sheet": false,
    "run_control": {
     "read_only": false
    },
    "scrolled": false
   },
   "outputs": [
    {
     "data": {
      "text/html": [
       "<div>\n",
       "<style scoped>\n",
       "    .dataframe tbody tr th:only-of-type {\n",
       "        vertical-align: middle;\n",
       "    }\n",
       "\n",
       "    .dataframe tbody tr th {\n",
       "        vertical-align: top;\n",
       "    }\n",
       "\n",
       "    .dataframe thead th {\n",
       "        text-align: right;\n",
       "    }\n",
       "</style>\n",
       "<table border=\"1\" class=\"dataframe\">\n",
       "  <thead>\n",
       "    <tr style=\"text-align: right;\">\n",
       "      <th></th>\n",
       "      <th>text</th>\n",
       "      <th>agreeCount</th>\n",
       "      <th>disagreeCount</th>\n",
       "      <th>id</th>\n",
       "    </tr>\n",
       "  </thead>\n",
       "  <tbody>\n",
       "    <tr>\n",
       "      <th>0</th>\n",
       "      <td>The best! I’m especially fond of the salmon burger, but I’ve had half of the menu and never been disappointed. There’s a reason this place is well known even outside of the Village!</td>\n",
       "      <td>1</td>\n",
       "      <td>0</td>\n",
       "      <td>5aec594b1f7440002c138612</td>\n",
       "    </tr>\n",
       "    <tr>\n",
       "      <th>1</th>\n",
       "      <td>I used to down a pint of chocolate like it was nothing back when I was bulking. Highly recommended!</td>\n",
       "      <td>1</td>\n",
       "      <td>0</td>\n",
       "      <td>5accc9f66fa81f196724807b</td>\n",
       "    </tr>\n",
       "    <tr>\n",
       "      <th>2</th>\n",
       "      <td>They serve coffee!!!!!!</td>\n",
       "      <td>1</td>\n",
       "      <td>0</td>\n",
       "      <td>5accc98c0313204c9d7ec157</td>\n",
       "    </tr>\n",
       "    <tr>\n",
       "      <th>3</th>\n",
       "      <td>I’m a fan. In fact, I’m such a big fan, I want Taim to hire me to be their spokesman. Kind of like the Arabic Jared Fogle - but without the kid stuff.</td>\n",
       "      <td>1</td>\n",
       "      <td>0</td>\n",
       "      <td>5accbf033abcaf09a24612a0</td>\n",
       "    </tr>\n",
       "    <tr>\n",
       "      <th>4</th>\n",
       "      <td>The linguine with clams is on point 👌</td>\n",
       "      <td>1</td>\n",
       "      <td>0</td>\n",
       "      <td>5accbe3a911fc423730f3ed3</td>\n",
       "    </tr>\n",
       "    <tr>\n",
       "      <th>5</th>\n",
       "      <td>Great for a quick, cheap lunch! Shorter lines than Chipotle too👌</td>\n",
       "      <td>1</td>\n",
       "      <td>0</td>\n",
       "      <td>5acbecb86fa81f1967e019b0</td>\n",
       "    </tr>\n",
       "    <tr>\n",
       "      <th>6</th>\n",
       "      <td>Quick, cheap lunch that tastes good! Way shorter line than Chipotle, too.</td>\n",
       "      <td>1</td>\n",
       "      <td>0</td>\n",
       "      <td>5acbec70a0215b732e264fe8</td>\n",
       "    </tr>\n",
       "    <tr>\n",
       "      <th>7</th>\n",
       "      <td>You’re not a real New Yorker until you’ve shame-ordered Insomnia Cookies for delivery at 3am</td>\n",
       "      <td>1</td>\n",
       "      <td>0</td>\n",
       "      <td>5acbbd4eb1538e45373b07f5</td>\n",
       "    </tr>\n",
       "    <tr>\n",
       "      <th>8</th>\n",
       "      <td>Good for you yet still tasty! Clean green protein is my go-to after I hit the gym 💪</td>\n",
       "      <td>2</td>\n",
       "      <td>0</td>\n",
       "      <td>5acbbcda01235808d5d6dc75</td>\n",
       "    </tr>\n",
       "    <tr>\n",
       "      <th>9</th>\n",
       "      <td>Coffee game on point</td>\n",
       "      <td>1</td>\n",
       "      <td>0</td>\n",
       "      <td>5acbbb1501235808d5d6525e</td>\n",
       "    </tr>\n",
       "    <tr>\n",
       "      <th>10</th>\n",
       "      <td>This is the dive bar to end all other dive bars. Go here if you like cheap drinks! 🥃</td>\n",
       "      <td>2</td>\n",
       "      <td>0</td>\n",
       "      <td>5ab576abea1e444f2abb051e</td>\n",
       "    </tr>\n",
       "    <tr>\n",
       "      <th>11</th>\n",
       "      <td>Burger game strong 💪</td>\n",
       "      <td>1</td>\n",
       "      <td>0</td>\n",
       "      <td>5ab575fb6bdee65f759da8c1</td>\n",
       "    </tr>\n",
       "    <tr>\n",
       "      <th>12</th>\n",
       "      <td>Great burgers &amp; fries! Also, this place is exactly what it’s like when you go to a bar in the Southwest. Source: I’m from Arizona.</td>\n",
       "      <td>2</td>\n",
       "      <td>0</td>\n",
       "      <td>5ab5575d73fe2516ad8f363b</td>\n",
       "    </tr>\n",
       "    <tr>\n",
       "      <th>13</th>\n",
       "      <td>That guy looks familiar...</td>\n",
       "      <td>1</td>\n",
       "      <td>0</td>\n",
       "      <td>5ab5299635f98312029a53b7</td>\n",
       "    </tr>\n",
       "    <tr>\n",
       "      <th>14</th>\n",
       "      <td>Açaí bowl + peanut butter + whey protein = 💪💪💪</td>\n",
       "      <td>1</td>\n",
       "      <td>0</td>\n",
       "      <td>5ab42db53c858d64af2688a4</td>\n",
       "    </tr>\n",
       "  </tbody>\n",
       "</table>\n",
       "</div>"
      ],
      "text/plain": [
       "                                                                                                                                                                                     text  \\\n",
       "0   The best! I’m especially fond of the salmon burger, but I’ve had half of the menu and never been disappointed. There’s a reason this place is well known even outside of the Village!   \n",
       "1   I used to down a pint of chocolate like it was nothing back when I was bulking. Highly recommended!                                                                                     \n",
       "2   They serve coffee!!!!!!                                                                                                                                                                 \n",
       "3   I’m a fan. In fact, I’m such a big fan, I want Taim to hire me to be their spokesman. Kind of like the Arabic Jared Fogle - but without the kid stuff.                                  \n",
       "4   The linguine with clams is on point 👌                                                                                                                                                   \n",
       "5   Great for a quick, cheap lunch! Shorter lines than Chipotle too👌                                                                                                                        \n",
       "6   Quick, cheap lunch that tastes good! Way shorter line than Chipotle, too.                                                                                                               \n",
       "7   You’re not a real New Yorker until you’ve shame-ordered Insomnia Cookies for delivery at 3am                                                                                            \n",
       "8   Good for you yet still tasty! Clean green protein is my go-to after I hit the gym 💪                                                                                                     \n",
       "9   Coffee game on point                                                                                                                                                                    \n",
       "10  This is the dive bar to end all other dive bars. Go here if you like cheap drinks! 🥃                                                                                                    \n",
       "11  Burger game strong 💪                                                                                                                                                                    \n",
       "12  Great burgers & fries! Also, this place is exactly what it’s like when you go to a bar in the Southwest. Source: I’m from Arizona.                                                      \n",
       "13  That guy looks familiar...                                                                                                                                                              \n",
       "14  Açaí bowl + peanut butter + whey protein = 💪💪💪                                                                                                                                          \n",
       "\n",
       "    agreeCount  disagreeCount                        id  \n",
       "0   1           0              5aec594b1f7440002c138612  \n",
       "1   1           0              5accc9f66fa81f196724807b  \n",
       "2   1           0              5accc98c0313204c9d7ec157  \n",
       "3   1           0              5accbf033abcaf09a24612a0  \n",
       "4   1           0              5accbe3a911fc423730f3ed3  \n",
       "5   1           0              5acbecb86fa81f1967e019b0  \n",
       "6   1           0              5acbec70a0215b732e264fe8  \n",
       "7   1           0              5acbbd4eb1538e45373b07f5  \n",
       "8   2           0              5acbbcda01235808d5d6dc75  \n",
       "9   1           0              5acbbb1501235808d5d6525e  \n",
       "10  2           0              5ab576abea1e444f2abb051e  \n",
       "11  1           0              5ab575fb6bdee65f759da8c1  \n",
       "12  2           0              5ab5575d73fe2516ad8f363b  \n",
       "13  1           0              5ab5299635f98312029a53b7  \n",
       "14  1           0              5ab42db53c858d64af2688a4  "
      ]
     },
     "execution_count": 33,
     "metadata": {},
     "output_type": "execute_result"
    }
   ],
   "source": [
    "# define tips URL\n",
    "url = 'https://api.foursquare.com/v2/users/{}/tips?client_id={}&client_secret={}&v={}&limit={}'.format(user_id, CLIENT_ID, CLIENT_SECRET, VERSION, limit)\n",
    "\n",
    "# send GET request and get user's tips\n",
    "results = requests.get(url).json()\n",
    "tips = results['response']['tips']['items']\n",
    "\n",
    "# format column width\n",
    "pd.set_option('display.max_colwidth', -1)\n",
    "\n",
    "tips_df = json_normalize(tips)\n",
    "\n",
    "# filter columns\n",
    "filtered_columns = ['text', 'agreeCount', 'disagreeCount', 'id']\n",
    "tips_filtered = tips_df.loc[:, filtered_columns]\n",
    "\n",
    "# display user's tips\n",
    "tips_filtered"
   ]
  },
  {
   "cell_type": "markdown",
   "metadata": {
    "button": false,
    "deletable": true,
    "new_sheet": false,
    "run_control": {
     "read_only": false
    }
   },
   "source": [
    "#### Let's get the venue for the tip with the greatest number of agree counts"
   ]
  },
  {
   "cell_type": "code",
   "execution_count": 34,
   "metadata": {
    "button": false,
    "collapsed": false,
    "deletable": true,
    "new_sheet": false,
    "run_control": {
     "read_only": false
    }
   },
   "outputs": [
    {
     "name": "stdout",
     "output_type": "stream",
     "text": [
      "Cowgirl\n",
      "{'address': '519 Hudson St', 'crossStreet': 'at W 10th St', 'lat': 40.73373338282062, 'lng': -74.0062998849649, 'labeledLatLngs': [{'label': 'display', 'lat': 40.73373338282062, 'lng': -74.0062998849649}], 'postalCode': '10014', 'cc': 'US', 'city': 'New York', 'state': 'NY', 'country': 'United States', 'formattedAddress': ['519 Hudson St (at W 10th St)', 'New York, NY 10014', 'United States']}\n"
     ]
    }
   ],
   "source": [
    "tip_id = '5ab5575d73fe2516ad8f363b' # tip id\n",
    "\n",
    "# define URL\n",
    "url = 'http://api.foursquare.com/v2/tips/{}?client_id={}&client_secret={}&v={}'.format(tip_id, CLIENT_ID, CLIENT_SECRET, VERSION)\n",
    "\n",
    "# send GET Request and examine results\n",
    "result = requests.get(url).json()\n",
    "print(result['response']['tip']['venue']['name'])\n",
    "print(result['response']['tip']['venue']['location'])"
   ]
  },
  {
   "cell_type": "markdown",
   "metadata": {
    "button": false,
    "deletable": true,
    "new_sheet": false,
    "run_control": {
     "read_only": false
    }
   },
   "source": [
    "### Get User's friends"
   ]
  },
  {
   "cell_type": "code",
   "execution_count": 35,
   "metadata": {
    "button": false,
    "collapsed": false,
    "deletable": true,
    "new_sheet": false,
    "run_control": {
     "read_only": false
    },
    "scrolled": false
   },
   "outputs": [
    {
     "data": {
      "text/html": [
       "<div>\n",
       "<style scoped>\n",
       "    .dataframe tbody tr th:only-of-type {\n",
       "        vertical-align: middle;\n",
       "    }\n",
       "\n",
       "    .dataframe tbody tr th {\n",
       "        vertical-align: top;\n",
       "    }\n",
       "\n",
       "    .dataframe thead th {\n",
       "        text-align: right;\n",
       "    }\n",
       "</style>\n",
       "<table border=\"1\" class=\"dataframe\">\n",
       "  <thead>\n",
       "    <tr style=\"text-align: right;\">\n",
       "      <th></th>\n",
       "    </tr>\n",
       "  </thead>\n",
       "  <tbody>\n",
       "  </tbody>\n",
       "</table>\n",
       "</div>"
      ],
      "text/plain": [
       "Empty DataFrame\n",
       "Columns: []\n",
       "Index: []"
      ]
     },
     "execution_count": 35,
     "metadata": {},
     "output_type": "execute_result"
    }
   ],
   "source": [
    "user_friends = json_normalize(user_data['friends']['groups'][0]['items'])\n",
    "user_friends"
   ]
  },
  {
   "cell_type": "markdown",
   "metadata": {
    "button": false,
    "deletable": true,
    "new_sheet": false,
    "run_control": {
     "read_only": false
    }
   },
   "source": [
    "Interesting. Despite being very active, it turns out that Nick does not have any friends on Foursquare. This might definitely change in the future."
   ]
  },
  {
   "cell_type": "markdown",
   "metadata": {
    "button": false,
    "deletable": true,
    "new_sheet": false,
    "run_control": {
     "read_only": false
    }
   },
   "source": [
    "### Retrieve the User's Profile Image"
   ]
  },
  {
   "cell_type": "code",
   "execution_count": 36,
   "metadata": {
    "button": false,
    "collapsed": false,
    "deletable": true,
    "new_sheet": false,
    "run_control": {
     "read_only": false
    },
    "scrolled": true
   },
   "outputs": [
    {
     "data": {
      "text/plain": [
       "{'id': '484542633',\n",
       " 'firstName': 'Nick',\n",
       " 'lastName': 'El-Tawil',\n",
       " 'gender': 'male',\n",
       " 'canonicalUrl': 'https://foursquare.com/nickeltawil',\n",
       " 'photo': {'prefix': 'https://fastly.4sqi.net/img/user/',\n",
       "  'suffix': '/484542633_mK2Yum7T_7Tn9fWpndidJsmw2Hof_6T5vJBKCHPLMK5OL-U5ZiJGj51iwBstcpDLYa3Zvhvis.jpg'},\n",
       " 'friends': {'count': 0,\n",
       "  'groups': [{'type': 'others',\n",
       "    'name': 'Other friends',\n",
       "    'count': 0,\n",
       "    'items': []}]},\n",
       " 'tips': {'count': 239},\n",
       " 'homeCity': 'New York, NY',\n",
       " 'bio': 'https://www.tawil.team/nick-el-tawil/',\n",
       " 'contact': {},\n",
       " 'photos': {'count': 0, 'items': []},\n",
       " 'type': 'user',\n",
       " 'mayorships': {'count': 0, 'items': []},\n",
       " 'checkins': {'count': 1, 'items': []},\n",
       " 'lists': {'count': 2,\n",
       "  'groups': [{'type': 'created', 'count': 0, 'items': []},\n",
       "   {'type': 'followed', 'count': 0, 'items': []},\n",
       "   {'type': 'yours',\n",
       "    'count': 2,\n",
       "    'items': [{'id': '484542633/todos',\n",
       "      'name': \"Nick's Saved Places\",\n",
       "      'description': '',\n",
       "      'type': 'todos',\n",
       "      'editable': False,\n",
       "      'public': True,\n",
       "      'collaborative': False,\n",
       "      'url': '/nickeltawil/list/todos',\n",
       "      'canonicalUrl': 'https://foursquare.com/nickeltawil/list/todos',\n",
       "      'listItems': {'count': 0}},\n",
       "     {'id': '484542633/venuelikes',\n",
       "      'name': 'Nick’s Liked Places',\n",
       "      'description': '',\n",
       "      'type': 'likes',\n",
       "      'editable': False,\n",
       "      'public': True,\n",
       "      'collaborative': False,\n",
       "      'url': '/nickeltawil/list/venuelikes',\n",
       "      'canonicalUrl': 'https://foursquare.com/nickeltawil/list/venuelikes',\n",
       "      'listItems': {'count': 0}}]}]},\n",
       " 'lenses': []}"
      ]
     },
     "execution_count": 36,
     "metadata": {},
     "output_type": "execute_result"
    }
   ],
   "source": [
    "user_data"
   ]
  },
  {
   "cell_type": "code",
   "execution_count": 37,
   "metadata": {
    "button": false,
    "collapsed": false,
    "deletable": true,
    "new_sheet": false,
    "run_control": {
     "read_only": false
    }
   },
   "outputs": [
    {
     "data": {
      "text/html": [
       "<img src=\"https://igx.4sqi.net/img/user/300x300/484542633_mK2Yum7T_7Tn9fWpndidJsmw2Hof_6T5vJBKCHPLMK5OL-U5ZiJGj51iwBstcpDLYa3Zvhvis.jpg\"/>"
      ],
      "text/plain": [
       "<IPython.core.display.Image object>"
      ]
     },
     "execution_count": 37,
     "metadata": {},
     "output_type": "execute_result"
    }
   ],
   "source": [
    "# 1. grab prefix of photo\n",
    "# 2. grab suffix of photo\n",
    "# 3. concatenate them using the image size  \n",
    "Image(url='https://igx.4sqi.net/img/user/300x300/484542633_mK2Yum7T_7Tn9fWpndidJsmw2Hof_6T5vJBKCHPLMK5OL-U5ZiJGj51iwBstcpDLYa3Zvhvis.jpg')"
   ]
  },
  {
   "cell_type": "markdown",
   "metadata": {
    "button": false,
    "deletable": true,
    "new_sheet": false,
    "run_control": {
     "read_only": false
    }
   },
   "source": [
    "  "
   ]
  },
  {
   "cell_type": "markdown",
   "metadata": {
    "button": false,
    "deletable": true,
    "new_sheet": false,
    "run_control": {
     "read_only": false
    }
   },
   "source": [
    "<a id=\"item4\"></a>"
   ]
  },
  {
   "cell_type": "markdown",
   "metadata": {
    "button": false,
    "deletable": true,
    "new_sheet": false,
    "run_control": {
     "read_only": false
    }
   },
   "source": [
    "## 4. Explore a location\n",
    "> `https://api.foursquare.com/v2/venues/`**explore**`?client_id=`**CLIENT_ID**`&client_secret=`**CLIENT_SECRET**`&ll=`**LATITUDE**`,`**LONGITUDE**`&v=`**VERSION**`&limit=`**LIMIT**"
   ]
  },
  {
   "cell_type": "markdown",
   "metadata": {
    "button": false,
    "deletable": true,
    "new_sheet": false,
    "run_control": {
     "read_only": false
    }
   },
   "source": [
    "#### So, you just finished your gourmet dish at Ecco, and are just curious about the popular spots around the restaurant. In order to explore the area, let's start by getting the latitude and longitude values of Ecco Restaurant."
   ]
  },
  {
   "cell_type": "code",
   "execution_count": 69,
   "metadata": {
    "button": false,
    "collapsed": true,
    "deletable": true,
    "new_sheet": false,
    "run_control": {
     "read_only": false
    }
   },
   "outputs": [],
   "source": [
    "latitude = -8.108991\n",
    "longitude = -34.9171811"
   ]
  },
  {
   "cell_type": "markdown",
   "metadata": {
    "button": false,
    "deletable": true,
    "new_sheet": false,
    "run_control": {
     "read_only": false
    }
   },
   "source": [
    "#### Define URL"
   ]
  },
  {
   "cell_type": "code",
   "execution_count": 70,
   "metadata": {
    "button": false,
    "collapsed": false,
    "deletable": true,
    "new_sheet": false,
    "run_control": {
     "read_only": false
    }
   },
   "outputs": [
    {
     "data": {
      "text/plain": [
       "'https://api.foursquare.com/v2/venues/explore?client_id=1GU25OCTP5HKPFYDDYM1W2T3Q4VK0ID0XB3EJYUQ0BDZPL1D&client_secret=NSJW03UNRYXOHZYYS4HQSUWFOMLUW0D2F24MCXFAV1H0NBB2&ll=-8.108991,-34.9171811&v=20180604&radius=1000&limit=30'"
      ]
     },
     "execution_count": 70,
     "metadata": {},
     "output_type": "execute_result"
    }
   ],
   "source": [
    "url = 'https://api.foursquare.com/v2/venues/explore?client_id={}&client_secret={}&ll={},{}&v={}&radius={}&limit={}'.format(CLIENT_ID, CLIENT_SECRET, latitude, longitude, VERSION, radius, LIMIT)\n",
    "url"
   ]
  },
  {
   "cell_type": "markdown",
   "metadata": {
    "button": false,
    "deletable": true,
    "new_sheet": false,
    "run_control": {
     "read_only": false
    }
   },
   "source": [
    "#### Send GET request and examine results"
   ]
  },
  {
   "cell_type": "code",
   "execution_count": 71,
   "metadata": {
    "button": false,
    "collapsed": true,
    "deletable": true,
    "new_sheet": false,
    "run_control": {
     "read_only": false
    }
   },
   "outputs": [],
   "source": [
    "import requests"
   ]
  },
  {
   "cell_type": "code",
   "execution_count": 72,
   "metadata": {
    "button": false,
    "collapsed": false,
    "deletable": true,
    "new_sheet": false,
    "run_control": {
     "read_only": false
    }
   },
   "outputs": [
    {
     "data": {
      "text/plain": [
       "'There are 30 around Ecco restaurant.'"
      ]
     },
     "execution_count": 72,
     "metadata": {},
     "output_type": "execute_result"
    }
   ],
   "source": [
    "results = requests.get(url).json()\n",
    "'There are {} around Ecco restaurant.'.format(len(results['response']['groups'][0]['items']))"
   ]
  },
  {
   "cell_type": "markdown",
   "metadata": {
    "button": false,
    "deletable": true,
    "new_sheet": false,
    "run_control": {
     "read_only": false
    }
   },
   "source": [
    "#### Get relevant part of JSON"
   ]
  },
  {
   "cell_type": "code",
   "execution_count": 73,
   "metadata": {
    "button": false,
    "collapsed": false,
    "deletable": true,
    "new_sheet": false,
    "run_control": {
     "read_only": false
    }
   },
   "outputs": [
    {
     "data": {
      "text/plain": [
       "{'reasons': {'count': 0,\n",
       "  'items': [{'summary': 'This spot is popular',\n",
       "    'type': 'general',\n",
       "    'reasonName': 'globalInteractionReason'}]},\n",
       " 'venue': {'id': '506c9c4de4b02cc57ffac9f9',\n",
       "  'name': 'Academia Winner',\n",
       "  'location': {'address': 'Rua Rio Tocantins',\n",
       "   'lat': -8.110088352543356,\n",
       "   'lng': -34.91790690560853,\n",
       "   'labeledLatLngs': [{'label': 'display',\n",
       "     'lat': -8.110088352543356,\n",
       "     'lng': -34.91790690560853}],\n",
       "   'distance': 146,\n",
       "   'cc': 'BR',\n",
       "   'city': 'Recife',\n",
       "   'state': 'PE',\n",
       "   'country': 'Brasil',\n",
       "   'formattedAddress': ['Rua Rio Tocantins', 'Recife, PE', 'Brasil']},\n",
       "  'categories': [{'id': '4bf58dd8d48988d176941735',\n",
       "    'name': 'Gym',\n",
       "    'pluralName': 'Gyms',\n",
       "    'shortName': 'Gym',\n",
       "    'icon': {'prefix': 'https://ss3.4sqi.net/img/categories_v2/building/gym_',\n",
       "     'suffix': '.png'},\n",
       "    'primary': True}],\n",
       "  'photos': {'count': 0, 'groups': []}},\n",
       " 'referralId': 'e-0-506c9c4de4b02cc57ffac9f9-0'}"
      ]
     },
     "execution_count": 73,
     "metadata": {},
     "output_type": "execute_result"
    }
   ],
   "source": [
    "items = results['response']['groups'][0]['items']\n",
    "items[0]"
   ]
  },
  {
   "cell_type": "markdown",
   "metadata": {
    "button": false,
    "deletable": true,
    "new_sheet": false,
    "run_control": {
     "read_only": false
    }
   },
   "source": [
    "#### Process JSON and convert it to a clean dataframe"
   ]
  },
  {
   "cell_type": "code",
   "execution_count": 74,
   "metadata": {
    "button": false,
    "collapsed": false,
    "deletable": true,
    "new_sheet": false,
    "run_control": {
     "read_only": false
    },
    "scrolled": false
   },
   "outputs": [
    {
     "data": {
      "text/html": [
       "<div>\n",
       "<style scoped>\n",
       "    .dataframe tbody tr th:only-of-type {\n",
       "        vertical-align: middle;\n",
       "    }\n",
       "\n",
       "    .dataframe tbody tr th {\n",
       "        vertical-align: top;\n",
       "    }\n",
       "\n",
       "    .dataframe thead th {\n",
       "        text-align: right;\n",
       "    }\n",
       "</style>\n",
       "<table border=\"1\" class=\"dataframe\">\n",
       "  <thead>\n",
       "    <tr style=\"text-align: right;\">\n",
       "      <th></th>\n",
       "      <th>name</th>\n",
       "      <th>categories</th>\n",
       "      <th>address</th>\n",
       "      <th>cc</th>\n",
       "      <th>city</th>\n",
       "      <th>country</th>\n",
       "      <th>crossStreet</th>\n",
       "      <th>distance</th>\n",
       "      <th>formattedAddress</th>\n",
       "      <th>labeledLatLngs</th>\n",
       "      <th>lat</th>\n",
       "      <th>lng</th>\n",
       "      <th>neighborhood</th>\n",
       "      <th>postalCode</th>\n",
       "      <th>state</th>\n",
       "      <th>id</th>\n",
       "    </tr>\n",
       "  </thead>\n",
       "  <tbody>\n",
       "    <tr>\n",
       "      <th>0</th>\n",
       "      <td>Academia Winner</td>\n",
       "      <td>Gym</td>\n",
       "      <td>Rua Rio Tocantins</td>\n",
       "      <td>BR</td>\n",
       "      <td>Recife</td>\n",
       "      <td>Brasil</td>\n",
       "      <td>NaN</td>\n",
       "      <td>146</td>\n",
       "      <td>[Rua Rio Tocantins, Recife, PE, Brasil]</td>\n",
       "      <td>[{'label': 'display', 'lat': -8.110088352543356, 'lng': -34.91790690560853}]</td>\n",
       "      <td>-8.110088</td>\n",
       "      <td>-34.917907</td>\n",
       "      <td>NaN</td>\n",
       "      <td>NaN</td>\n",
       "      <td>PE</td>\n",
       "      <td>506c9c4de4b02cc57ffac9f9</td>\n",
       "    </tr>\n",
       "    <tr>\n",
       "      <th>1</th>\n",
       "      <td>Cia do pastel</td>\n",
       "      <td>Diner</td>\n",
       "      <td>Rua Itaquicé</td>\n",
       "      <td>BR</td>\n",
       "      <td>Recife</td>\n",
       "      <td>Brasil</td>\n",
       "      <td>NaN</td>\n",
       "      <td>202</td>\n",
       "      <td>[Rua Itaquicé, Recife, PE, Brasil]</td>\n",
       "      <td>[{'label': 'display', 'lat': -8.107411276509394, 'lng': -34.91626250889492}]</td>\n",
       "      <td>-8.107411</td>\n",
       "      <td>-34.916263</td>\n",
       "      <td>NaN</td>\n",
       "      <td>NaN</td>\n",
       "      <td>PE</td>\n",
       "      <td>504928aae4b0d14d966f72a2</td>\n",
       "    </tr>\n",
       "    <tr>\n",
       "      <th>2</th>\n",
       "      <td>H Burger</td>\n",
       "      <td>Burger Joint</td>\n",
       "      <td>Rua Araraquara, 20</td>\n",
       "      <td>BR</td>\n",
       "      <td>Recife</td>\n",
       "      <td>Brasil</td>\n",
       "      <td>Rua Potengy</td>\n",
       "      <td>126</td>\n",
       "      <td>[Rua Araraquara, 20 (Rua Potengy), Recife, PE, 51350-000, Brasil]</td>\n",
       "      <td>[{'label': 'display', 'lat': -8.107851728902133, 'lng': -34.917145600574074}]</td>\n",
       "      <td>-8.107852</td>\n",
       "      <td>-34.917146</td>\n",
       "      <td>NaN</td>\n",
       "      <td>51350-000</td>\n",
       "      <td>PE</td>\n",
       "      <td>4bf3de27d2fbef3b7cb2a4c5</td>\n",
       "    </tr>\n",
       "    <tr>\n",
       "      <th>3</th>\n",
       "      <td>Sociedade do Sushi</td>\n",
       "      <td>Japanese Restaurant</td>\n",
       "      <td>Rua Jean Emili Favre, 559, Loja 03</td>\n",
       "      <td>BR</td>\n",
       "      <td>Recife</td>\n",
       "      <td>Brasil</td>\n",
       "      <td>NaN</td>\n",
       "      <td>199</td>\n",
       "      <td>[Rua Jean Emili Favre, 559, Loja 03, Recife, PE, 51190-450, Brasil]</td>\n",
       "      <td>[{'label': 'display', 'lat': -8.107836463828427, 'lng': -34.915802429607744}]</td>\n",
       "      <td>-8.107836</td>\n",
       "      <td>-34.915802</td>\n",
       "      <td>NaN</td>\n",
       "      <td>51190-450</td>\n",
       "      <td>PE</td>\n",
       "      <td>537b675a498eb2a2de8b473d</td>\n",
       "    </tr>\n",
       "    <tr>\n",
       "      <th>4</th>\n",
       "      <td>Pão Norte</td>\n",
       "      <td>Bakery</td>\n",
       "      <td>Av. Jean Émile Favre</td>\n",
       "      <td>BR</td>\n",
       "      <td>Recife</td>\n",
       "      <td>Brasil</td>\n",
       "      <td>NaN</td>\n",
       "      <td>360</td>\n",
       "      <td>[Av. Jean Émile Favre, Recife, PE, Brasil]</td>\n",
       "      <td>[{'label': 'display', 'lat': -8.111205529223744, 'lng': -34.91956854009893}]</td>\n",
       "      <td>-8.111206</td>\n",
       "      <td>-34.919569</td>\n",
       "      <td>NaN</td>\n",
       "      <td>NaN</td>\n",
       "      <td>PE</td>\n",
       "      <td>4fb398a9e4b05eaef9d61a6e</td>\n",
       "    </tr>\n",
       "    <tr>\n",
       "      <th>5</th>\n",
       "      <td>Mc Tonho</td>\n",
       "      <td>Snack Place</td>\n",
       "      <td>NaN</td>\n",
       "      <td>BR</td>\n",
       "      <td>Recife</td>\n",
       "      <td>Brasil</td>\n",
       "      <td>NaN</td>\n",
       "      <td>327</td>\n",
       "      <td>[Recife, PE, Brasil]</td>\n",
       "      <td>[{'label': 'display', 'lat': -8.108288527359932, 'lng': -34.920068990880694}]</td>\n",
       "      <td>-8.108289</td>\n",
       "      <td>-34.920069</td>\n",
       "      <td>NaN</td>\n",
       "      <td>NaN</td>\n",
       "      <td>PE</td>\n",
       "      <td>4e7fd1d9b6340a306779f6df</td>\n",
       "    </tr>\n",
       "    <tr>\n",
       "      <th>6</th>\n",
       "      <td>Domino's Pizza Ipsep</td>\n",
       "      <td>Pizza Place</td>\n",
       "      <td>Rua Jean Emile Favre, 1343</td>\n",
       "      <td>BR</td>\n",
       "      <td>Recife</td>\n",
       "      <td>Brasil</td>\n",
       "      <td>NaN</td>\n",
       "      <td>581</td>\n",
       "      <td>[Rua Jean Emile Favre, 1343, Recife, PE, Brasil]</td>\n",
       "      <td>[{'label': 'display', 'lat': -8.11249768752802, 'lng': -34.92109313851787}]</td>\n",
       "      <td>-8.112498</td>\n",
       "      <td>-34.921093</td>\n",
       "      <td>NaN</td>\n",
       "      <td>NaN</td>\n",
       "      <td>PE</td>\n",
       "      <td>5865af079c439d6a22583b89</td>\n",
       "    </tr>\n",
       "    <tr>\n",
       "      <th>7</th>\n",
       "      <td>Dona Jô Comidas Típicas</td>\n",
       "      <td>Northeastern Brazilian Restaurant</td>\n",
       "      <td>NaN</td>\n",
       "      <td>BR</td>\n",
       "      <td>Recife</td>\n",
       "      <td>Brasil</td>\n",
       "      <td>NaN</td>\n",
       "      <td>426</td>\n",
       "      <td>[Recife, PE, Brasil]</td>\n",
       "      <td>[{'label': 'display', 'lat': -8.1077153131933, 'lng': -34.920833757197165}]</td>\n",
       "      <td>-8.107715</td>\n",
       "      <td>-34.920834</td>\n",
       "      <td>NaN</td>\n",
       "      <td>NaN</td>\n",
       "      <td>PE</td>\n",
       "      <td>53851347498e15240eb10bec</td>\n",
       "    </tr>\n",
       "    <tr>\n",
       "      <th>8</th>\n",
       "      <td>Fogão de lenha</td>\n",
       "      <td>Restaurant</td>\n",
       "      <td>NaN</td>\n",
       "      <td>BR</td>\n",
       "      <td>Recife</td>\n",
       "      <td>Brasil</td>\n",
       "      <td>NaN</td>\n",
       "      <td>283</td>\n",
       "      <td>[Recife, PE, Brasil]</td>\n",
       "      <td>[{'label': 'display', 'lat': -8.107699407785606, 'lng': -34.91496467069566}]</td>\n",
       "      <td>-8.107699</td>\n",
       "      <td>-34.914965</td>\n",
       "      <td>NaN</td>\n",
       "      <td>NaN</td>\n",
       "      <td>PE</td>\n",
       "      <td>55633d26498e2dfc3042d818</td>\n",
       "    </tr>\n",
       "    <tr>\n",
       "      <th>9</th>\n",
       "      <td>Praça do Camarão - Bar e Petiscaria</td>\n",
       "      <td>Beer Garden</td>\n",
       "      <td>Rua Clotilde de Machado, 33</td>\n",
       "      <td>BR</td>\n",
       "      <td>Recife</td>\n",
       "      <td>Brasil</td>\n",
       "      <td>NaN</td>\n",
       "      <td>511</td>\n",
       "      <td>[Rua Clotilde de Machado, 33, Recife, PE, 51350-210, Brasil]</td>\n",
       "      <td>[{'label': 'display', 'lat': -8.107676887334359, 'lng': -34.92162792280917}]</td>\n",
       "      <td>-8.107677</td>\n",
       "      <td>-34.921628</td>\n",
       "      <td>Ipsep</td>\n",
       "      <td>51350-210</td>\n",
       "      <td>PE</td>\n",
       "      <td>5580bfd7498e2a1d1ced9849</td>\n",
       "    </tr>\n",
       "  </tbody>\n",
       "</table>\n",
       "</div>"
      ],
      "text/plain": [
       "                                  name                         categories  \\\n",
       "0  Academia Winner                      Gym                                 \n",
       "1  Cia do pastel                        Diner                               \n",
       "2  H Burger                             Burger Joint                        \n",
       "3  Sociedade do Sushi                   Japanese Restaurant                 \n",
       "4  Pão Norte                            Bakery                              \n",
       "5  Mc Tonho                             Snack Place                         \n",
       "6  Domino's Pizza Ipsep                 Pizza Place                         \n",
       "7  Dona Jô Comidas Típicas              Northeastern Brazilian Restaurant   \n",
       "8  Fogão de lenha                       Restaurant                          \n",
       "9  Praça do Camarão - Bar e Petiscaria  Beer Garden                         \n",
       "\n",
       "                              address  cc    city country  crossStreet  \\\n",
       "0  Rua Rio Tocantins                   BR  Recife  Brasil  NaN           \n",
       "1  Rua Itaquicé                        BR  Recife  Brasil  NaN           \n",
       "2  Rua Araraquara, 20                  BR  Recife  Brasil  Rua Potengy   \n",
       "3  Rua Jean Emili Favre, 559, Loja 03  BR  Recife  Brasil  NaN           \n",
       "4  Av. Jean Émile Favre                BR  Recife  Brasil  NaN           \n",
       "5  NaN                                 BR  Recife  Brasil  NaN           \n",
       "6  Rua Jean Emile Favre, 1343          BR  Recife  Brasil  NaN           \n",
       "7  NaN                                 BR  Recife  Brasil  NaN           \n",
       "8  NaN                                 BR  Recife  Brasil  NaN           \n",
       "9  Rua Clotilde de Machado, 33         BR  Recife  Brasil  NaN           \n",
       "\n",
       "   distance  \\\n",
       "0  146        \n",
       "1  202        \n",
       "2  126        \n",
       "3  199        \n",
       "4  360        \n",
       "5  327        \n",
       "6  581        \n",
       "7  426        \n",
       "8  283        \n",
       "9  511        \n",
       "\n",
       "                                                      formattedAddress  \\\n",
       "0  [Rua Rio Tocantins, Recife, PE, Brasil]                               \n",
       "1  [Rua Itaquicé, Recife, PE, Brasil]                                    \n",
       "2  [Rua Araraquara, 20 (Rua Potengy), Recife, PE, 51350-000, Brasil]     \n",
       "3  [Rua Jean Emili Favre, 559, Loja 03, Recife, PE, 51190-450, Brasil]   \n",
       "4  [Av. Jean Émile Favre, Recife, PE, Brasil]                            \n",
       "5  [Recife, PE, Brasil]                                                  \n",
       "6  [Rua Jean Emile Favre, 1343, Recife, PE, Brasil]                      \n",
       "7  [Recife, PE, Brasil]                                                  \n",
       "8  [Recife, PE, Brasil]                                                  \n",
       "9  [Rua Clotilde de Machado, 33, Recife, PE, 51350-210, Brasil]          \n",
       "\n",
       "                                                                  labeledLatLngs  \\\n",
       "0  [{'label': 'display', 'lat': -8.110088352543356, 'lng': -34.91790690560853}]    \n",
       "1  [{'label': 'display', 'lat': -8.107411276509394, 'lng': -34.91626250889492}]    \n",
       "2  [{'label': 'display', 'lat': -8.107851728902133, 'lng': -34.917145600574074}]   \n",
       "3  [{'label': 'display', 'lat': -8.107836463828427, 'lng': -34.915802429607744}]   \n",
       "4  [{'label': 'display', 'lat': -8.111205529223744, 'lng': -34.91956854009893}]    \n",
       "5  [{'label': 'display', 'lat': -8.108288527359932, 'lng': -34.920068990880694}]   \n",
       "6  [{'label': 'display', 'lat': -8.11249768752802, 'lng': -34.92109313851787}]     \n",
       "7  [{'label': 'display', 'lat': -8.1077153131933, 'lng': -34.920833757197165}]     \n",
       "8  [{'label': 'display', 'lat': -8.107699407785606, 'lng': -34.91496467069566}]    \n",
       "9  [{'label': 'display', 'lat': -8.107676887334359, 'lng': -34.92162792280917}]    \n",
       "\n",
       "        lat        lng neighborhood postalCode state                        id  \n",
       "0 -8.110088 -34.917907  NaN          NaN        PE    506c9c4de4b02cc57ffac9f9  \n",
       "1 -8.107411 -34.916263  NaN          NaN        PE    504928aae4b0d14d966f72a2  \n",
       "2 -8.107852 -34.917146  NaN          51350-000  PE    4bf3de27d2fbef3b7cb2a4c5  \n",
       "3 -8.107836 -34.915802  NaN          51190-450  PE    537b675a498eb2a2de8b473d  \n",
       "4 -8.111206 -34.919569  NaN          NaN        PE    4fb398a9e4b05eaef9d61a6e  \n",
       "5 -8.108289 -34.920069  NaN          NaN        PE    4e7fd1d9b6340a306779f6df  \n",
       "6 -8.112498 -34.921093  NaN          NaN        PE    5865af079c439d6a22583b89  \n",
       "7 -8.107715 -34.920834  NaN          NaN        PE    53851347498e15240eb10bec  \n",
       "8 -8.107699 -34.914965  NaN          NaN        PE    55633d26498e2dfc3042d818  \n",
       "9 -8.107677 -34.921628  Ipsep        51350-210  PE    5580bfd7498e2a1d1ced9849  "
      ]
     },
     "execution_count": 74,
     "metadata": {},
     "output_type": "execute_result"
    }
   ],
   "source": [
    "dataframe = json_normalize(items) # flatten JSON\n",
    "\n",
    "# filter columns\n",
    "filtered_columns = ['venue.name', 'venue.categories'] + [col for col in dataframe.columns if col.startswith('venue.location.')] + ['venue.id']\n",
    "dataframe_filtered = dataframe.loc[:, filtered_columns]\n",
    "\n",
    "# filter the category for each row\n",
    "dataframe_filtered['venue.categories'] = dataframe_filtered.apply(get_category_type, axis=1)\n",
    "\n",
    "# clean columns\n",
    "dataframe_filtered.columns = [col.split('.')[-1] for col in dataframe_filtered.columns]\n",
    "\n",
    "dataframe_filtered.head(10)"
   ]
  },
  {
   "cell_type": "markdown",
   "metadata": {
    "button": false,
    "deletable": true,
    "new_sheet": false,
    "run_control": {
     "read_only": false
    }
   },
   "source": [
    "#### Let's visualize these items on the map around our location"
   ]
  },
  {
   "cell_type": "code",
   "execution_count": 75,
   "metadata": {
    "button": false,
    "collapsed": false,
    "deletable": true,
    "new_sheet": false,
    "run_control": {
     "read_only": false
    }
   },
   "outputs": [
    {
     "data": {
      "text/html": [
       "<div style=\"width:100%;\"><div style=\"position:relative;width:100%;height:0;padding-bottom:60%;\"><iframe src=\"data:text/html;charset=utf-8;base64,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\" style=\"position:absolute;width:100%;height:100%;left:0;top:0;border:none !important;\" allowfullscreen webkitallowfullscreen mozallowfullscreen></iframe></div></div>"
      ],
      "text/plain": [
       "<folium.folium.Map at 0x7f5bf9cf3c50>"
      ]
     },
     "execution_count": 75,
     "metadata": {},
     "output_type": "execute_result"
    }
   ],
   "source": [
    "venues_map = folium.Map(location=[latitude, longitude], zoom_start=15) # generate map centred around Ecco\n",
    "\n",
    "\n",
    "# add Ecco as a red circle mark\n",
    "folium.features.CircleMarker(\n",
    "    [latitude, longitude],\n",
    "    radius=10,\n",
    "    popup='Ecco',\n",
    "    fill=True,\n",
    "    color='red',\n",
    "    fill_color='red',\n",
    "    fill_opacity=0.6\n",
    "    ).add_to(venues_map)\n",
    "\n",
    "\n",
    "# add popular spots to the map as blue circle markers\n",
    "for lat, lng, label in zip(dataframe_filtered.lat, dataframe_filtered.lng, dataframe_filtered.categories):\n",
    "    folium.features.CircleMarker(\n",
    "        [lat, lng],\n",
    "        radius=5,\n",
    "        popup=label,\n",
    "        fill=True,\n",
    "        color='blue',\n",
    "        fill_color='blue',\n",
    "        fill_opacity=0.6\n",
    "        ).add_to(venues_map)\n",
    "\n",
    "# display map\n",
    "venues_map"
   ]
  },
  {
   "cell_type": "markdown",
   "metadata": {
    "button": false,
    "deletable": true,
    "new_sheet": false,
    "run_control": {
     "read_only": false
    }
   },
   "source": [
    "   "
   ]
  },
  {
   "cell_type": "markdown",
   "metadata": {
    "button": false,
    "deletable": true,
    "new_sheet": false,
    "run_control": {
     "read_only": false
    }
   },
   "source": [
    "<a id=\"item5\"></a>"
   ]
  },
  {
   "cell_type": "markdown",
   "metadata": {
    "button": false,
    "deletable": true,
    "new_sheet": false,
    "run_control": {
     "read_only": false
    }
   },
   "source": [
    "## 5. Explore Trending Venues\n",
    "> `https://api.foursquare.com/v2/venues/`**trending**`?client_id=`**CLIENT_ID**`&client_secret=`**CLIENT_SECRET**`&ll=`**LATITUDE**`,`**LONGITUDE**`&v=`**VERSION**"
   ]
  },
  {
   "cell_type": "markdown",
   "metadata": {
    "button": false,
    "deletable": true,
    "new_sheet": false,
    "run_control": {
     "read_only": false
    }
   },
   "source": [
    "#### Now, instead of simply exploring the area around Ecco, you are interested in knowing the venues that are trending at the time you are done with your lunch, meaning the places with the highest foot traffic. So let's do that and get the trending venues around Ecco."
   ]
  },
  {
   "cell_type": "code",
   "execution_count": 76,
   "metadata": {
    "button": false,
    "collapsed": false,
    "deletable": true,
    "new_sheet": false,
    "run_control": {
     "read_only": false
    }
   },
   "outputs": [
    {
     "data": {
      "text/plain": [
       "{'meta': {'code': 200, 'requestId': '5d28c5d8531593002cbb060a'},\n",
       " 'response': {'venues': []}}"
      ]
     },
     "execution_count": 76,
     "metadata": {},
     "output_type": "execute_result"
    }
   ],
   "source": [
    "# define URL\n",
    "url = 'https://api.foursquare.com/v2/venues/trending?client_id={}&client_secret={}&ll={},{}&v={}'.format(CLIENT_ID, CLIENT_SECRET, latitude, longitude, VERSION)\n",
    "\n",
    "# send GET request and get trending venues\n",
    "results = requests.get(url).json()\n",
    "results"
   ]
  },
  {
   "cell_type": "markdown",
   "metadata": {
    "button": false,
    "deletable": true,
    "new_sheet": false,
    "run_control": {
     "read_only": false
    }
   },
   "source": [
    "### Check if any venues are trending at this time"
   ]
  },
  {
   "cell_type": "code",
   "execution_count": 77,
   "metadata": {
    "button": false,
    "collapsed": true,
    "deletable": true,
    "new_sheet": false,
    "run_control": {
     "read_only": false
    }
   },
   "outputs": [],
   "source": [
    "if len(results['response']['venues']) == 0:\n",
    "    trending_venues_df = 'No trending venues are available at the moment!'\n",
    "    \n",
    "else:\n",
    "    trending_venues = results['response']['venues']\n",
    "    trending_venues_df = json_normalize(trending_venues)\n",
    "\n",
    "    # filter columns\n",
    "    columns_filtered = ['name', 'categories'] + ['location.distance', 'location.city', 'location.postalCode', 'location.state', 'location.country', 'location.lat', 'location.lng']\n",
    "    trending_venues_df = trending_venues_df.loc[:, columns_filtered]\n",
    "\n",
    "    # filter the category for each row\n",
    "    trending_venues_df['categories'] = trending_venues_df.apply(get_category_type, axis=1)"
   ]
  },
  {
   "cell_type": "code",
   "execution_count": 78,
   "metadata": {
    "button": false,
    "collapsed": false,
    "deletable": true,
    "new_sheet": false,
    "run_control": {
     "read_only": false
    }
   },
   "outputs": [
    {
     "data": {
      "text/plain": [
       "'No trending venues are available at the moment!'"
      ]
     },
     "execution_count": 78,
     "metadata": {},
     "output_type": "execute_result"
    }
   ],
   "source": [
    "# display trending venues\n",
    "trending_venues_df"
   ]
  },
  {
   "cell_type": "markdown",
   "metadata": {
    "button": false,
    "deletable": true,
    "new_sheet": false,
    "run_control": {
     "read_only": false
    }
   },
   "source": [
    "Now, depending on when you run the above code, you might get different venues since the venues with the highest foot traffic are fetched live. "
   ]
  },
  {
   "cell_type": "markdown",
   "metadata": {
    "button": false,
    "deletable": true,
    "new_sheet": false,
    "run_control": {
     "read_only": false
    }
   },
   "source": [
    "### Visualize trending venues"
   ]
  },
  {
   "cell_type": "code",
   "execution_count": 79,
   "metadata": {
    "button": false,
    "collapsed": false,
    "deletable": true,
    "new_sheet": false,
    "run_control": {
     "read_only": false
    }
   },
   "outputs": [],
   "source": [
    "if len(results['response']['venues']) == 0:\n",
    "    venues_map = 'Cannot generate visual as no trending venues are available at the moment!'\n",
    "\n",
    "else:\n",
    "    venues_map = folium.Map(location=[latitude, longitude], zoom_start=15) # generate map centred around Ecco\n",
    "\n",
    "\n",
    "    # add Ecco as a red circle mark\n",
    "    folium.features.CircleMarker(\n",
    "        [latitude, longitude],\n",
    "        radius=10,\n",
    "        popup='Ecco',\n",
    "        fill=True,\n",
    "        color='red',\n",
    "        fill_color='red',\n",
    "        fill_opacity=0.6\n",
    "    ).add_to(venues_map)\n",
    "\n",
    "\n",
    "    # add the trending venues as blue circle markers\n",
    "    for lat, lng, label in zip(trending_venues_df['location.lat'], trending_venues_df['location.lng'], trending_venues_df['name']):\n",
    "        folium.features.CircleMarker(\n",
    "            [lat, lng],\n",
    "            radius=5,\n",
    "            poup=label,\n",
    "            fill=True,\n",
    "            color='blue',\n",
    "            fill_color='blue',\n",
    "            fill_opacity=0.6\n",
    "        ).add_to(venues_map)"
   ]
  },
  {
   "cell_type": "code",
   "execution_count": 49,
   "metadata": {
    "button": false,
    "collapsed": false,
    "deletable": true,
    "new_sheet": false,
    "run_control": {
     "read_only": false
    },
    "scrolled": false
   },
   "outputs": [
    {
     "data": {
      "text/html": [
       "<div style=\"width:100%;\"><div style=\"position:relative;width:100%;height:0;padding-bottom:60%;\"><iframe src=\"data:text/html;charset=utf-8;base64,PCFET0NUWVBFIGh0bWw+CjxoZWFkPiAgICAKICAgIDxtZXRhIGh0dHAtZXF1aXY9ImNvbnRlbnQtdHlwZSIgY29udGVudD0idGV4dC9odG1sOyBjaGFyc2V0PVVURi04IiAvPgogICAgPHNjcmlwdD5MX1BSRUZFUl9DQU5WQVMgPSBmYWxzZTsgTF9OT19UT1VDSCA9IGZhbHNlOyBMX0RJU0FCTEVfM0QgPSBmYWxzZTs8L3NjcmlwdD4KICAgIDxzY3JpcHQgc3JjPSJodHRwczovL2Nkbi5qc2RlbGl2ci5uZXQvbnBtL2xlYWZsZXRAMS4yLjAvZGlzdC9sZWFmbGV0LmpzIj48L3NjcmlwdD4KICAgIDxzY3JpcHQgc3JjPSJodHRwczovL2FqYXguZ29vZ2xlYXBpcy5jb20vYWpheC9saWJzL2pxdWVyeS8xLjExLjEvanF1ZXJ5Lm1pbi5qcyI+PC9zY3JpcHQ+CiAgICA8c2NyaXB0IHNyYz0iaHR0cHM6Ly9tYXhjZG4uYm9vdHN0cmFwY2RuLmNvbS9ib290c3RyYXAvMy4yLjAvanMvYm9vdHN0cmFwLm1pbi5qcyI+PC9zY3JpcHQ+CiAgICA8c2NyaXB0IHNyYz0iaHR0cHM6Ly9jZG5qcy5jbG91ZGZsYXJlLmNvbS9hamF4L2xpYnMvTGVhZmxldC5hd2Vzb21lLW1hcmtlcnMvMi4wLjIvbGVhZmxldC5hd2Vzb21lLW1hcmtlcnMuanMiPjwvc2NyaXB0PgogICAgPGxpbmsgcmVsPSJzdHlsZXNoZWV0IiBocmVmPSJodHRwczovL2Nkbi5qc2RlbGl2ci5uZXQvbnBtL2xlYWZsZXRAMS4yLjAvZGlzdC9sZWFmbGV0LmNzcyIvPgogICAgPGxpbmsgcmVsPSJzdHlsZXNoZWV0IiBocmVmPSJodHRwczovL21heGNkbi5ib290c3RyYXBjZG4uY29tL2Jvb3RzdHJhcC8zLjIuMC9jc3MvYm9vdHN0cmFwLm1pbi5jc3MiLz4KICAgIDxsaW5rIHJlbD0ic3R5bGVzaGVldCIgaHJlZj0iaHR0cHM6Ly9tYXhjZG4uYm9vdHN0cmFwY2RuLmNvbS9ib290c3RyYXAvMy4yLjAvY3NzL2Jvb3RzdHJhcC10aGVtZS5taW4uY3NzIi8+CiAgICA8bGluayByZWw9InN0eWxlc2hlZXQiIGhyZWY9Imh0dHBzOi8vbWF4Y2RuLmJvb3RzdHJhcGNkbi5jb20vZm9udC1hd2Vzb21lLzQuNi4zL2Nzcy9mb250LWF3ZXNvbWUubWluLmNzcyIvPgogICAgPGxpbmsgcmVsPSJzdHlsZXNoZWV0IiBocmVmPSJodHRwczovL2NkbmpzLmNsb3VkZmxhcmUuY29tL2FqYXgvbGlicy9MZWFmbGV0LmF3ZXNvbWUtbWFya2Vycy8yLjAuMi9sZWFmbGV0LmF3ZXNvbWUtbWFya2Vycy5jc3MiLz4KICAgIDxsaW5rIHJlbD0ic3R5bGVzaGVldCIgaHJlZj0iaHR0cHM6Ly9yYXdnaXQuY29tL3B5dGhvbi12aXN1YWxpemF0aW9uL2ZvbGl1bS9tYXN0ZXIvZm9saXVtL3RlbXBsYXRlcy9sZWFmbGV0LmF3ZXNvbWUucm90YXRlLmNzcyIvPgogICAgPHN0eWxlPmh0bWwsIGJvZHkge3dpZHRoOiAxMDAlO2hlaWdodDogMTAwJTttYXJnaW46IDA7cGFkZGluZzogMDt9PC9zdHlsZT4KICAgIDxzdHlsZT4jbWFwIHtwb3NpdGlvbjphYnNvbHV0ZTt0b3A6MDtib3R0b206MDtyaWdodDowO2xlZnQ6MDt9PC9zdHlsZT4KICAgIAogICAgICAgICAgICA8c3R5bGU+ICNtYXBfYjExNTY4ZDc0ZDhiNDExMGEyNGM4MWU3MzM1MDE1MjMgewogICAgICAgICAgICAgICAgcG9zaXRpb24gOiByZWxhdGl2ZTsKICAgICAgICAgICAgICAgIHdpZHRoIDogMTAwLjAlOwogICAgICAgICAgICAgICAgaGVpZ2h0OiAxMDAuMCU7CiAgICAgICAgICAgICAgICBsZWZ0OiAwLjAlOwogICAgICAgICAgICAgICAgdG9wOiAwLjAlOwogICAgICAgICAgICAgICAgfQogICAgICAgICAgICA8L3N0eWxlPgogICAgICAgIAo8L2hlYWQ+Cjxib2R5PiAgICAKICAgIAogICAgICAgICAgICA8ZGl2IGNsYXNzPSJmb2xpdW0tbWFwIiBpZD0ibWFwX2IxMTU2OGQ3NGQ4YjQxMTBhMjRjODFlNzMzNTAxNTIzIiA+PC9kaXY+CiAgICAgICAgCjwvYm9keT4KPHNjcmlwdD4gICAgCiAgICAKCiAgICAgICAgICAgIAogICAgICAgICAgICAgICAgdmFyIGJvdW5kcyA9IG51bGw7CiAgICAgICAgICAgIAoKICAgICAgICAgICAgdmFyIG1hcF9iMTE1NjhkNzRkOGI0MTEwYTI0YzgxZTczMzUwMTUyMyA9IEwubWFwKAogICAgICAgICAgICAgICAgICAgICAgICAgICAgICAgICAgJ21hcF9iMTE1NjhkNzRkOGI0MTEwYTI0YzgxZTczMzUwMTUyMycsCiAgICAgICAgICAgICAgICAgICAgICAgICAgICAgICAgICB7Y2VudGVyOiBbNDAuNzE1MzM3LC03NC4wMDg4NDhdLAogICAgICAgICAgICAgICAgICAgICAgICAgICAgICAgICAgem9vbTogMTUsCiAgICAgICAgICAgICAgICAgICAgICAgICAgICAgICAgICBtYXhCb3VuZHM6IGJvdW5kcywKICAgICAgICAgICAgICAgICAgICAgICAgICAgICAgICAgIGxheWVyczogW10sCiAgICAgICAgICAgICAgICAgICAgICAgICAgICAgICAgICB3b3JsZENvcHlKdW1wOiBmYWxzZSwKICAgICAgICAgICAgICAgICAgICAgICAgICAgICAgICAgIGNyczogTC5DUlMuRVBTRzM4NTcKICAgICAgICAgICAgICAgICAgICAgICAgICAgICAgICAgfSk7CiAgICAgICAgICAgIAogICAgICAgIAogICAgCiAgICAgICAgICAgIHZhciB0aWxlX2xheWVyXzAxYTE5MDU3Yzc5YjQwMTRiZjMyNzk5OTVjZmEyNWNjID0gTC50aWxlTGF5ZXIoCiAgICAgICAgICAgICAgICAnaHR0cHM6Ly97c30udGlsZS5vcGVuc3RyZWV0bWFwLm9yZy97en0ve3h9L3t5fS5wbmcnLAogICAgICAgICAgICAgICAgewogICJhdHRyaWJ1dGlvbiI6IG51bGwsCiAgImRldGVjdFJldGluYSI6IGZhbHNlLAogICJtYXhab29tIjogMTgsCiAgIm1pblpvb20iOiAxLAogICJub1dyYXAiOiBmYWxzZSwKICAic3ViZG9tYWlucyI6ICJhYmMiCn0KICAgICAgICAgICAgICAgICkuYWRkVG8obWFwX2IxMTU2OGQ3NGQ4YjQxMTBhMjRjODFlNzMzNTAxNTIzKTsKICAgICAgICAKICAgIAogICAgICAgICAgICB2YXIgY2lyY2xlX21hcmtlcl9hYzFlZWVlMzc5YzI0YjljYTM2MDkyY2QwNjY5YWQzMSA9IEwuY2lyY2xlTWFya2VyKAogICAgICAgICAgICAgICAgWzQwLjcxNTMzNywtNzQuMDA4ODQ4XSwKICAgICAgICAgICAgICAgIHsKICAiYnViYmxpbmdNb3VzZUV2ZW50cyI6IHRydWUsCiAgImNvbG9yIjogInJlZCIsCiAgImRhc2hBcnJheSI6IG51bGwsCiAgImRhc2hPZmZzZXQiOiBudWxsLAogICJmaWxsIjogdHJ1ZSwKICAiZmlsbENvbG9yIjogInJlZCIsCiAgImZpbGxPcGFjaXR5IjogMC42LAogICJmaWxsUnVsZSI6ICJldmVub2RkIiwKICAibGluZUNhcCI6ICJyb3VuZCIsCiAgImxpbmVKb2luIjogInJvdW5kIiwKICAib3BhY2l0eSI6IDEuMCwKICAicmFkaXVzIjogMTAsCiAgInN0cm9rZSI6IHRydWUsCiAgIndlaWdodCI6IDMKfQogICAgICAgICAgICAgICAgKS5hZGRUbyhtYXBfYjExNTY4ZDc0ZDhiNDExMGEyNGM4MWU3MzM1MDE1MjMpOwogICAgICAgICAgICAKICAgIAogICAgICAgICAgICB2YXIgcG9wdXBfOWU1MDNhZWE3NjQ5NGVkYmI1MGE1MzkzM2EyYTRmNzIgPSBMLnBvcHVwKHttYXhXaWR0aDogJzMwMCd9KTsKCiAgICAgICAgICAgIAogICAgICAgICAgICAgICAgdmFyIGh0bWxfMWQyZWRhMGEyZTBhNGI3MGIwZWVkNmM1YTllZDgwOTMgPSAkKCc8ZGl2IGlkPSJodG1sXzFkMmVkYTBhMmUwYTRiNzBiMGVlZDZjNWE5ZWQ4MDkzIiBzdHlsZT0id2lkdGg6IDEwMC4wJTsgaGVpZ2h0OiAxMDAuMCU7Ij5FY2NvPC9kaXY+JylbMF07CiAgICAgICAgICAgICAgICBwb3B1cF85ZTUwM2FlYTc2NDk0ZWRiYjUwYTUzOTMzYTJhNGY3Mi5zZXRDb250ZW50KGh0bWxfMWQyZWRhMGEyZTBhNGI3MGIwZWVkNmM1YTllZDgwOTMpOwogICAgICAgICAgICAKCiAgICAgICAgICAgIGNpcmNsZV9tYXJrZXJfYWMxZWVlZTM3OWMyNGI5Y2EzNjA5MmNkMDY2OWFkMzEuYmluZFBvcHVwKHBvcHVwXzllNTAzYWVhNzY0OTRlZGJiNTBhNTM5MzNhMmE0ZjcyKTsKCiAgICAgICAgICAgIAogICAgICAgIAogICAgCiAgICAgICAgICAgIHZhciBjaXJjbGVfbWFya2VyXzVjMWU2MDZmMDY2YjQwMGJiNTYwMmU4NGZkMTRjOWNmID0gTC5jaXJjbGVNYXJrZXIoCiAgICAgICAgICAgICAgICBbNDAuNzEwMjcxODQwMTk1MjksLTc0LjAxMjA0OTQzNjU2OTIxXSwKICAgICAgICAgICAgICAgIHsKICAiYnViYmxpbmdNb3VzZUV2ZW50cyI6IHRydWUsCiAgImNvbG9yIjogImJsdWUiLAogICJkYXNoQXJyYXkiOiBudWxsLAogICJkYXNoT2Zmc2V0IjogbnVsbCwKICAiZmlsbCI6IHRydWUsCiAgImZpbGxDb2xvciI6ICJibHVlIiwKICAiZmlsbE9wYWNpdHkiOiAwLjYsCiAgImZpbGxSdWxlIjogImV2ZW5vZGQiLAogICJsaW5lQ2FwIjogInJvdW5kIiwKICAibGluZUpvaW4iOiAicm91bmQiLAogICJvcGFjaXR5IjogMS4wLAogICJyYWRpdXMiOiA1LAogICJzdHJva2UiOiB0cnVlLAogICJ3ZWlnaHQiOiAzCn0KICAgICAgICAgICAgICAgICkuYWRkVG8obWFwX2IxMTU2OGQ3NGQ4YjQxMTBhMjRjODFlNzMzNTAxNTIzKTsKICAgICAgICAgICAgCjwvc2NyaXB0Pg==\" style=\"position:absolute;width:100%;height:100%;left:0;top:0;border:none !important;\" allowfullscreen webkitallowfullscreen mozallowfullscreen></iframe></div></div>"
      ],
      "text/plain": [
       "<folium.folium.Map at 0x7f5bf9f93b38>"
      ]
     },
     "execution_count": 49,
     "metadata": {},
     "output_type": "execute_result"
    }
   ],
   "source": [
    "# display map\n",
    "venues_map"
   ]
  },
  {
   "cell_type": "markdown",
   "metadata": {
    "button": false,
    "deletable": true,
    "new_sheet": false,
    "run_control": {
     "read_only": false
    }
   },
   "source": [
    "<a id=\"item6\"></a>"
   ]
  },
  {
   "cell_type": "markdown",
   "metadata": {
    "button": false,
    "deletable": true,
    "new_sheet": false,
    "run_control": {
     "read_only": false
    }
   },
   "source": [
    "   "
   ]
  },
  {
   "cell_type": "markdown",
   "metadata": {
    "button": false,
    "deletable": true,
    "new_sheet": false,
    "run_control": {
     "read_only": false
    }
   },
   "source": [
    "### Thank you for completing this lab!\n",
    "\n",
    "This notebook was created by [Alex Aklson](https://www.linkedin.com/in/aklson/). I hope you found this lab interesting and educational. Feel free to contact me if you have any questions!"
   ]
  },
  {
   "cell_type": "markdown",
   "metadata": {
    "button": false,
    "deletable": true,
    "new_sheet": false,
    "run_control": {
     "read_only": false
    }
   },
   "source": [
    "This notebook is part of a course on **Coursera** called *Applied Data Science Capstone*. If you accessed this notebook outside the course, you can take this course online by clicking [here](http://cocl.us/DP0701EN_Coursera_Week2_LAB1)."
   ]
  },
  {
   "cell_type": "markdown",
   "metadata": {
    "button": false,
    "deletable": true,
    "new_sheet": false,
    "run_control": {
     "read_only": false
    }
   },
   "source": [
    "<hr>\n",
    "Copyright &copy; 2018 [Cognitive Class](https://cognitiveclass.ai/?utm_source=bducopyrightlink&utm_medium=dswb&utm_campaign=bdu). This notebook and its source code are released under the terms of the [MIT License](https://bigdatauniversity.com/mit-license/)."
   ]
  }
 ],
 "metadata": {
  "kernelspec": {
   "display_name": "Python 3",
   "language": "python",
   "name": "python3"
  },
  "language_info": {
   "codemirror_mode": {
    "name": "ipython",
    "version": 3
   },
   "file_extension": ".py",
   "mimetype": "text/x-python",
   "name": "python",
   "nbconvert_exporter": "python",
   "pygments_lexer": "ipython3",
   "version": "3.7.3"
  },
  "widgets": {
   "state": {},
   "version": "1.1.2"
  }
 },
 "nbformat": 4,
 "nbformat_minor": 2
}
